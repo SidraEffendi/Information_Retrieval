{
 "cells": [
  {
   "cell_type": "code",
   "execution_count": 1000,
   "metadata": {},
   "outputs": [],
   "source": [
    "# setup\n",
    "import pandas as pd\n",
    "import spacy\n",
    "import re\n",
    "from string import punctuation\n",
    "from collections import Counter\n",
    "import numpy as np\n",
    "import matplotlib.pyplot as plt"
   ]
  },
  {
   "cell_type": "markdown",
   "metadata": {},
   "source": [
    "# Data Collection"
   ]
  },
  {
   "cell_type": "code",
   "execution_count": 1001,
   "metadata": {},
   "outputs": [],
   "source": [
    "# read the reddit file\n",
    "with open('si650-f21-reddit-questions.txt') as f:\n",
    "    reddit_questions = f.read()\n",
    "    #print(reddit_questions)"
   ]
  },
  {
   "cell_type": "code",
   "execution_count": 1002,
   "metadata": {},
   "outputs": [],
   "source": [
    "# read the wikipedia biography file\n",
    "with open('si650.f21.wiki-bios.10k.txt') as f:\n",
    "    wiki_bio = f.read()\n",
    "    #print(wiki_bio)?"
   ]
  },
  {
   "cell_type": "code",
   "execution_count": 1003,
   "metadata": {},
   "outputs": [],
   "source": [
    "# read the stopword file\n",
    "with open('stoplist.txt') as f:\n",
    "    stoplist = f.read()\n",
    "    #print(stoplist)"
   ]
  },
  {
   "cell_type": "markdown",
   "metadata": {},
   "source": [
    "# Data Wrangling"
   ]
  },
  {
   "cell_type": "code",
   "execution_count": 1004,
   "metadata": {},
   "outputs": [
    {
     "data": {
      "text/plain": [
       "(20001, 10001, 419)"
      ]
     },
     "execution_count": 1004,
     "metadata": {},
     "output_type": "execute_result"
    }
   ],
   "source": [
    "#separate the different documents into different element in list.\n",
    "list_reddit_questions=reddit_questions.split(\"\\n\")\n",
    "list_wiki_bio=wiki_bio.split(\"\\n\")\n",
    "list_stopwords = stoplist.split(\"\\n\")\n",
    "len(list_reddit_questions),len(list_clean_wiki_bio), len(list_stopwords)"
   ]
  },
  {
   "cell_type": "code",
   "execution_count": 1005,
   "metadata": {},
   "outputs": [],
   "source": [
    "def remove_uninteresting(collection):\n",
    "    '''Takes a collection of documents and removes punctuation, digits and extra spaces.'''\n",
    "    clean_collection =[]\n",
    "    for doc in collection:\n",
    "        digit_removed = re.sub(r\"\\b[0-9]+\\b\\s*\", \"\", doc) #remove puntuation\n",
    "        punctuation_removed = re.sub(r\"[^A-Za-z0-9\\s]+\", \"\", digit_removed) #removes digigts\n",
    "        clean_text = re.sub(r\"\\s\\s+\", \" \", punctuation_removed); #remove the extra spaces\n",
    "        clean_collection.append(clean_text)\n",
    "    return clean_collection       "
   ]
  },
  {
   "cell_type": "code",
   "execution_count": 1006,
   "metadata": {},
   "outputs": [],
   "source": [
    "nlp = spacy.load(\"en_core_web_sm\")\n",
    "def tokenize(collection):\n",
    "    '''Tokenize the text in given collection of documents'''\n",
    "    tokenized_collection=[]\n",
    "    token_info_collection=[]\n",
    "    doc_count =0\n",
    "    for doc in collection:\n",
    "        tokens = nlp(doc)\n",
    "        doc_count +=1\n",
    "        for token in tokens:\n",
    "            #print(token.text, token.pos_, token.tag_)\n",
    "            token_info_collection.append([token.text, token.pos_,'doc'+ str(doc_count)])\n",
    "        tokenized_collection.append(tokens)\n",
    "    return token_info_collection    "
   ]
  },
  {
   "cell_type": "code",
   "execution_count": 1008,
   "metadata": {},
   "outputs": [
    {
     "data": {
      "text/html": [
       "<div>\n",
       "<style scoped>\n",
       "    .dataframe tbody tr th:only-of-type {\n",
       "        vertical-align: middle;\n",
       "    }\n",
       "\n",
       "    .dataframe tbody tr th {\n",
       "        vertical-align: top;\n",
       "    }\n",
       "\n",
       "    .dataframe thead th {\n",
       "        text-align: right;\n",
       "    }\n",
       "</style>\n",
       "<table border=\"1\" class=\"dataframe\">\n",
       "  <thead>\n",
       "    <tr style=\"text-align: right;\">\n",
       "      <th></th>\n",
       "      <th>word</th>\n",
       "      <th>pos</th>\n",
       "      <th>doc</th>\n",
       "    </tr>\n",
       "  </thead>\n",
       "  <tbody>\n",
       "    <tr>\n",
       "      <th>1839391</th>\n",
       "      <td>defeat</td>\n",
       "      <td>NOUN</td>\n",
       "      <td>doc8942</td>\n",
       "    </tr>\n",
       "  </tbody>\n",
       "</table>\n",
       "</div>"
      ],
      "text/plain": [
       "           word   pos      doc\n",
       "1839391  defeat  NOUN  doc8942"
      ]
     },
     "execution_count": 1008,
     "metadata": {},
     "output_type": "execute_result"
    }
   ],
   "source": [
    "# pass a collection\n",
    "clean_wiki_bio = remove_uninteresting(list_wiki_bio)\n",
    "token_info_wiki_bio = tokenize(clean_wiki_bio)\n",
    "\n",
    "#create wikipedia biographies dataframe\n",
    "df_wiki_bio = pd.DataFrame(token_info_wiki_bio, columns = ['word', 'pos', 'doc'])\n",
    "df_wiki_bio.sample(1)"
   ]
  },
  {
   "cell_type": "code",
   "execution_count": 1060,
   "metadata": {},
   "outputs": [
    {
     "data": {
      "text/html": [
       "<div>\n",
       "<style scoped>\n",
       "    .dataframe tbody tr th:only-of-type {\n",
       "        vertical-align: middle;\n",
       "    }\n",
       "\n",
       "    .dataframe tbody tr th {\n",
       "        vertical-align: top;\n",
       "    }\n",
       "\n",
       "    .dataframe thead th {\n",
       "        text-align: right;\n",
       "    }\n",
       "</style>\n",
       "<table border=\"1\" class=\"dataframe\">\n",
       "  <thead>\n",
       "    <tr style=\"text-align: right;\">\n",
       "      <th></th>\n",
       "      <th>word</th>\n",
       "      <th>pos</th>\n",
       "      <th>doc</th>\n",
       "    </tr>\n",
       "  </thead>\n",
       "  <tbody>\n",
       "    <tr>\n",
       "      <th>7538</th>\n",
       "      <td>Targets</td>\n",
       "      <td>NOUN</td>\n",
       "      <td>doc499</td>\n",
       "    </tr>\n",
       "    <tr>\n",
       "      <th>7539</th>\n",
       "      <td>entire</td>\n",
       "      <td>ADJ</td>\n",
       "      <td>doc499</td>\n",
       "    </tr>\n",
       "    <tr>\n",
       "      <th>7540</th>\n",
       "      <td>computer</td>\n",
       "      <td>NOUN</td>\n",
       "      <td>doc499</td>\n",
       "    </tr>\n",
       "    <tr>\n",
       "      <th>7541</th>\n",
       "      <td>system</td>\n",
       "      <td>NOUN</td>\n",
       "      <td>doc499</td>\n",
       "    </tr>\n",
       "    <tr>\n",
       "      <th>7542</th>\n",
       "      <td>went</td>\n",
       "      <td>VERB</td>\n",
       "      <td>doc499</td>\n",
       "    </tr>\n",
       "    <tr>\n",
       "      <th>7543</th>\n",
       "      <td>down</td>\n",
       "      <td>ADV</td>\n",
       "      <td>doc499</td>\n",
       "    </tr>\n",
       "    <tr>\n",
       "      <th>7544</th>\n",
       "      <td>yesterday</td>\n",
       "      <td>NOUN</td>\n",
       "      <td>doc499</td>\n",
       "    </tr>\n",
       "    <tr>\n",
       "      <th>7545</th>\n",
       "      <td>What</td>\n",
       "      <td>PRON</td>\n",
       "      <td>doc500</td>\n",
       "    </tr>\n",
       "    <tr>\n",
       "      <th>7546</th>\n",
       "      <td>is</td>\n",
       "      <td>AUX</td>\n",
       "      <td>doc500</td>\n",
       "    </tr>\n",
       "    <tr>\n",
       "      <th>7547</th>\n",
       "      <td>something</td>\n",
       "      <td>PRON</td>\n",
       "      <td>doc500</td>\n",
       "    </tr>\n",
       "    <tr>\n",
       "      <th>7548</th>\n",
       "      <td>loved</td>\n",
       "      <td>VERB</td>\n",
       "      <td>doc500</td>\n",
       "    </tr>\n",
       "    <tr>\n",
       "      <th>7549</th>\n",
       "      <td>in</td>\n",
       "      <td>ADP</td>\n",
       "      <td>doc500</td>\n",
       "    </tr>\n",
       "    <tr>\n",
       "      <th>7550</th>\n",
       "      <td>your</td>\n",
       "      <td>DET</td>\n",
       "      <td>doc500</td>\n",
       "    </tr>\n",
       "    <tr>\n",
       "      <th>7551</th>\n",
       "      <td>state</td>\n",
       "      <td>NOUN</td>\n",
       "      <td>doc500</td>\n",
       "    </tr>\n",
       "    <tr>\n",
       "      <th>7552</th>\n",
       "      <td>but</td>\n",
       "      <td>CCONJ</td>\n",
       "      <td>doc500</td>\n",
       "    </tr>\n",
       "    <tr>\n",
       "      <th>7553</th>\n",
       "      <td>is</td>\n",
       "      <td>AUX</td>\n",
       "      <td>doc500</td>\n",
       "    </tr>\n",
       "    <tr>\n",
       "      <th>7554</th>\n",
       "      <td>odd</td>\n",
       "      <td>ADJ</td>\n",
       "      <td>doc500</td>\n",
       "    </tr>\n",
       "    <tr>\n",
       "      <th>7555</th>\n",
       "      <td>in</td>\n",
       "      <td>ADP</td>\n",
       "      <td>doc500</td>\n",
       "    </tr>\n",
       "    <tr>\n",
       "      <th>7556</th>\n",
       "      <td>another</td>\n",
       "      <td>DET</td>\n",
       "      <td>doc500</td>\n",
       "    </tr>\n",
       "    <tr>\n",
       "      <th>7557</th>\n",
       "      <td>state</td>\n",
       "      <td>NOUN</td>\n",
       "      <td>doc500</td>\n",
       "    </tr>\n",
       "  </tbody>\n",
       "</table>\n",
       "</div>"
      ],
      "text/plain": [
       "           word    pos     doc\n",
       "7538    Targets   NOUN  doc499\n",
       "7539     entire    ADJ  doc499\n",
       "7540   computer   NOUN  doc499\n",
       "7541     system   NOUN  doc499\n",
       "7542       went   VERB  doc499\n",
       "7543       down    ADV  doc499\n",
       "7544  yesterday   NOUN  doc499\n",
       "7545       What   PRON  doc500\n",
       "7546         is    AUX  doc500\n",
       "7547  something   PRON  doc500\n",
       "7548      loved   VERB  doc500\n",
       "7549         in    ADP  doc500\n",
       "7550       your    DET  doc500\n",
       "7551      state   NOUN  doc500\n",
       "7552        but  CCONJ  doc500\n",
       "7553         is    AUX  doc500\n",
       "7554        odd    ADJ  doc500\n",
       "7555         in    ADP  doc500\n",
       "7556    another    DET  doc500\n",
       "7557      state   NOUN  doc500"
      ]
     },
     "execution_count": 1060,
     "metadata": {},
     "output_type": "execute_result"
    }
   ],
   "source": [
    "# pass a collection\n",
    "clean_reddit_questions = remove_uninteresting(list_reddit_questions)\n",
    "token_info_reddit_questions = tokenize(clean_reddit_questions)\n",
    "\n",
    "#create reddit questions dataframe\n",
    "df_reddit_questions = pd.DataFrame(token_info_reddit_questions, columns = ['word', 'pos','doc'])\n",
    "# df_reddit_questions.tail(20)"
   ]
  },
  {
   "cell_type": "code",
   "execution_count": 1076,
   "metadata": {},
   "outputs": [],
   "source": [
    "# create df with the stopwords\n",
    "df_stopwords= pd.DataFrame(list_stopwords, columns = ['word'])"
   ]
  },
  {
   "cell_type": "code",
   "execution_count": 1077,
   "metadata": {},
   "outputs": [
    {
     "data": {
      "text/plain": [
       "False"
      ]
     },
     "execution_count": 1077,
     "metadata": {},
     "output_type": "execute_result"
    }
   ],
   "source": [
    "stoplist.isupper() # there is no capital word in the stoplist"
   ]
  },
  {
   "cell_type": "markdown",
   "metadata": {},
   "source": [
    "Since, many words differ only because they are uppercase, having a column with the words in lowercase will be helpful in finding word frequency and removal of stopwords which are all in lower case."
   ]
  },
  {
   "cell_type": "code",
   "execution_count": 1078,
   "metadata": {},
   "outputs": [],
   "source": [
    "df_wiki_bio['lowercase_word'] = df_wiki_bio.word.str.lower()\n",
    "df_reddit_questions['lowercase_word'] = df_reddit_questions.word.str.lower()"
   ]
  },
  {
   "cell_type": "code",
   "execution_count": 1079,
   "metadata": {},
   "outputs": [],
   "source": [
    "# df_wiki_bio.sample(2)"
   ]
  },
  {
   "cell_type": "code",
   "execution_count": 1080,
   "metadata": {},
   "outputs": [],
   "source": [
    "# calculate freq of lowercase words\n",
    "df_wiki_bio['freq'] = df_wiki_bio.groupby('lowercase_word')['lowercase_word'].transform('count')\n",
    "df_reddit_questions['freq'] = df_wiki_bio.groupby('lowercase_word')['lowercase_word'].transform('count')\n",
    "# df_wiki_bio.sample(5)"
   ]
  },
  {
   "cell_type": "code",
   "execution_count": 1081,
   "metadata": {},
   "outputs": [],
   "source": [
    "# drop duplicates because we have their info in the freq column now\n",
    "df_wiki_bio.drop_duplicates(inplace=True)\n",
    "df_reddit_questions.drop_duplicates(inplace=True)"
   ]
  },
  {
   "cell_type": "code",
   "execution_count": 1082,
   "metadata": {},
   "outputs": [],
   "source": [
    "# df_wiki_bio.info()"
   ]
  },
  {
   "cell_type": "code",
   "execution_count": 1232,
   "metadata": {},
   "outputs": [],
   "source": [
    "# create a dataframe only with lowercase words\n",
    "df_wiki_bio_lowercase = df_wiki_bio[['lowercase_word','pos','freq','doc']].copy()\n",
    "df_wiki_bio_lowercase.drop_duplicates(inplace=True)\n",
    "df_reddit_questions_lowercase = df_reddit_questions[['lowercase_word','pos','freq','doc']].copy()\n",
    "df_reddit_questions_lowercase.drop_duplicates(inplace=True)"
   ]
  },
  {
   "cell_type": "code",
   "execution_count": 1233,
   "metadata": {},
   "outputs": [],
   "source": [
    "# sort as per word freq. for convenience and add rank column\n",
    "df_wiki_bio_lowercase_sorted = df_wiki_bio_lowercase.sort_values('freq', ascending=False).reset_index()\n",
    "df_wiki_bio_lowercase_sorted['rank'] = df_wiki_bio_lowercase_sorted.index+1\n",
    "df_wiki_bio_lowercase_sorted.drop(columns='index', inplace=True)\n",
    "df_reddit_questions_lowercase_sorted = df_reddit_questions_lowercase.sort_values('freq', ascending=False).reset_index()\n",
    "df_reddit_questions_lowercase_sorted['rank'] = df_reddit_questions_lowercase_sorted.index+1\n",
    "df_reddit_questions_lowercase_sorted.drop(columns='index', inplace=True)"
   ]
  },
  {
   "cell_type": "code",
   "execution_count": 1310,
   "metadata": {},
   "outputs": [
    {
     "data": {
      "text/html": [
       "<div>\n",
       "<style scoped>\n",
       "    .dataframe tbody tr th:only-of-type {\n",
       "        vertical-align: middle;\n",
       "    }\n",
       "\n",
       "    .dataframe tbody tr th {\n",
       "        vertical-align: top;\n",
       "    }\n",
       "\n",
       "    .dataframe thead th {\n",
       "        text-align: right;\n",
       "    }\n",
       "</style>\n",
       "<table border=\"1\" class=\"dataframe\">\n",
       "  <thead>\n",
       "    <tr style=\"text-align: right;\">\n",
       "      <th></th>\n",
       "      <th>lowercase_word</th>\n",
       "      <th>pos</th>\n",
       "      <th>freq</th>\n",
       "      <th>doc</th>\n",
       "      <th>rank</th>\n",
       "      <th>is_stopword</th>\n",
       "    </tr>\n",
       "  </thead>\n",
       "  <tbody>\n",
       "    <tr>\n",
       "      <th>2117</th>\n",
       "      <td>and</td>\n",
       "      <td>CCONJ</td>\n",
       "      <td>254.0</td>\n",
       "      <td>doc268</td>\n",
       "      <td>2118</td>\n",
       "      <td>True</td>\n",
       "    </tr>\n",
       "    <tr>\n",
       "      <th>6781</th>\n",
       "      <td>it</td>\n",
       "      <td>PRON</td>\n",
       "      <td>NaN</td>\n",
       "      <td>doc384</td>\n",
       "      <td>6782</td>\n",
       "      <td>True</td>\n",
       "    </tr>\n",
       "    <tr>\n",
       "      <th>2829</th>\n",
       "      <td>be</td>\n",
       "      <td>AUX</td>\n",
       "      <td>73.0</td>\n",
       "      <td>doc466</td>\n",
       "      <td>2830</td>\n",
       "      <td>True</td>\n",
       "    </tr>\n",
       "    <tr>\n",
       "      <th>6788</th>\n",
       "      <td>threat</td>\n",
       "      <td>NOUN</td>\n",
       "      <td>NaN</td>\n",
       "      <td>doc384</td>\n",
       "      <td>6789</td>\n",
       "      <td>False</td>\n",
       "    </tr>\n",
       "    <tr>\n",
       "      <th>4042</th>\n",
       "      <td>food</td>\n",
       "      <td>NOUN</td>\n",
       "      <td>1.0</td>\n",
       "      <td>doc427</td>\n",
       "      <td>4043</td>\n",
       "      <td>False</td>\n",
       "    </tr>\n",
       "    <tr>\n",
       "      <th>4753</th>\n",
       "      <td>rumor</td>\n",
       "      <td>NOUN</td>\n",
       "      <td>NaN</td>\n",
       "      <td>doc80</td>\n",
       "      <td>4754</td>\n",
       "      <td>False</td>\n",
       "    </tr>\n",
       "    <tr>\n",
       "      <th>6370</th>\n",
       "      <td>sound</td>\n",
       "      <td>PROPN</td>\n",
       "      <td>NaN</td>\n",
       "      <td>doc321</td>\n",
       "      <td>6371</td>\n",
       "      <td>False</td>\n",
       "    </tr>\n",
       "    <tr>\n",
       "      <th>2081</th>\n",
       "      <td>own</td>\n",
       "      <td>ADJ</td>\n",
       "      <td>277.0</td>\n",
       "      <td>doc453</td>\n",
       "      <td>2082</td>\n",
       "      <td>True</td>\n",
       "    </tr>\n",
       "    <tr>\n",
       "      <th>1629</th>\n",
       "      <td>writing</td>\n",
       "      <td>VERB</td>\n",
       "      <td>499.0</td>\n",
       "      <td>doc453</td>\n",
       "      <td>1630</td>\n",
       "      <td>False</td>\n",
       "    </tr>\n",
       "    <tr>\n",
       "      <th>2314</th>\n",
       "      <td>single</td>\n",
       "      <td>ADJ</td>\n",
       "      <td>180.0</td>\n",
       "      <td>doc439</td>\n",
       "      <td>2315</td>\n",
       "      <td>False</td>\n",
       "    </tr>\n",
       "  </tbody>\n",
       "</table>\n",
       "</div>"
      ],
      "text/plain": [
       "     lowercase_word    pos   freq     doc  rank  is_stopword\n",
       "2117            and  CCONJ  254.0  doc268  2118         True\n",
       "6781             it   PRON    NaN  doc384  6782         True\n",
       "2829             be    AUX   73.0  doc466  2830         True\n",
       "6788         threat   NOUN    NaN  doc384  6789        False\n",
       "4042           food   NOUN    1.0  doc427  4043        False\n",
       "4753          rumor   NOUN    NaN   doc80  4754        False\n",
       "6370          sound  PROPN    NaN  doc321  6371        False\n",
       "2081            own    ADJ  277.0  doc453  2082         True\n",
       "1629        writing   VERB  499.0  doc453  1630        False\n",
       "2314         single    ADJ  180.0  doc439  2315        False"
      ]
     },
     "execution_count": 1310,
     "metadata": {},
     "output_type": "execute_result"
    }
   ],
   "source": [
    "df_reddit_questions_lowercase_sorted.sample(10)"
   ]
  },
  {
   "cell_type": "markdown",
   "metadata": {},
   "source": [
    "Some of the stopwords contain apostrophe but I have removed it from the collection of documents and so I will remove it from the stopword list as well."
   ]
  },
  {
   "cell_type": "code",
   "execution_count": 1086,
   "metadata": {},
   "outputs": [
    {
     "data": {
      "text/plain": [
       "419"
      ]
     },
     "execution_count": 1086,
     "metadata": {},
     "output_type": "execute_result"
    }
   ],
   "source": [
    "#remove puntuation from stopword\n",
    "clean_list_stopwords = remove_uninteresting(list_stopwords)\n",
    "len(clean_list_stopwords)"
   ]
  },
  {
   "cell_type": "code",
   "execution_count": 1284,
   "metadata": {},
   "outputs": [],
   "source": [
    "# remove the stopwords from the df\n",
    "df_wiki_bio_lowercase_sorted['is_stopword'] = df_wiki_bio_lowercase_sorted.lowercase_word.apply(lambda x: \n",
    "                            True if x in clean_list_stopwords else False)\n",
    "df_reddit_questions_lowercase_sorted['is_stopword'] = df_reddit_questions_lowercase_sorted.lowercase_word.apply(\n",
    "    lambda x: True if x in clean_list_stopwords else False)"
   ]
  },
  {
   "cell_type": "code",
   "execution_count": 1285,
   "metadata": {},
   "outputs": [
    {
     "data": {
      "text/plain": [
       "(  lowercase_word  pos   freq      doc  rank  is_stopword\n",
       " 0             in  ADP  12298  doc2913     1         True\n",
       " 1             in  ADP  12298  doc7422     2         True\n",
       " 2             in  ADP  12298  doc6387     3         True\n",
       " 3             in  ADP  12298  doc4018     4         True\n",
       " 4             in  ADP  12298  doc1788     5         True,\n",
       "   lowercase_word    pos     freq     doc  rank  is_stopword\n",
       " 0              s  PROPN  12298.0  doc275     1        False\n",
       " 1             of    ADP  12298.0  doc117     2         True\n",
       " 2            got   VERB  12298.0  doc201     3        False\n",
       " 3           good    ADJ  12298.0    doc3     4        False\n",
       " 4            but  CCONJ  12298.0  doc109     5         True)"
      ]
     },
     "execution_count": 1285,
     "metadata": {},
     "output_type": "execute_result"
    }
   ],
   "source": [
    "df_wiki_bio_lowercase_sorted.head(), df_reddit_questions_lowercase_sorted.head()"
   ]
  },
  {
   "cell_type": "markdown",
   "metadata": {},
   "source": [
    "## Plotting the frequency distribution of words"
   ]
  },
  {
   "cell_type": "code",
   "execution_count": 1089,
   "metadata": {},
   "outputs": [
    {
     "data": {
      "text/html": [
       "<div>\n",
       "<style scoped>\n",
       "    .dataframe tbody tr th:only-of-type {\n",
       "        vertical-align: middle;\n",
       "    }\n",
       "\n",
       "    .dataframe tbody tr th {\n",
       "        vertical-align: top;\n",
       "    }\n",
       "\n",
       "    .dataframe thead th {\n",
       "        text-align: right;\n",
       "    }\n",
       "</style>\n",
       "<table border=\"1\" class=\"dataframe\">\n",
       "  <thead>\n",
       "    <tr style=\"text-align: right;\">\n",
       "      <th></th>\n",
       "      <th>lowercase_word</th>\n",
       "      <th>pos</th>\n",
       "      <th>freq</th>\n",
       "      <th>rank</th>\n",
       "      <th>is_stopword</th>\n",
       "    </tr>\n",
       "  </thead>\n",
       "  <tbody>\n",
       "    <tr>\n",
       "      <th>37</th>\n",
       "      <td>born</td>\n",
       "      <td>VERB</td>\n",
       "      <td>4923</td>\n",
       "      <td>38</td>\n",
       "      <td>False</td>\n",
       "    </tr>\n",
       "  </tbody>\n",
       "</table>\n",
       "</div>"
      ],
      "text/plain": [
       "   lowercase_word   pos  freq  rank  is_stopword\n",
       "37           born  VERB  4923    38        False"
      ]
     },
     "execution_count": 1089,
     "metadata": {},
     "output_type": "execute_result"
    }
   ],
   "source": [
    "df1 = df_wiki_bio_lowercase_sorted[df_wiki_bio_lowercase_sorted.is_stopword == False]\n",
    "df1.head(1)"
   ]
  },
  {
   "cell_type": "code",
   "execution_count": 1090,
   "metadata": {
    "scrolled": true
   },
   "outputs": [
    {
     "data": {
      "image/png": "[encoded data removed]",
      "text/plain": [
       "<Figure size 2160x2160 with 1 Axes>"
      ]
     },
     "metadata": {
      "needs_background": "light"
     },
     "output_type": "display_data"
    }
   ],
   "source": [
    "# plt.subplot(2,1,1)\n",
    "plt.xscale('log')\n",
    "plt.plot(df1['rank'],df1['freq'])\n",
    "plt.yscale('log')\n",
    "plt.rcParams[\"figure.figsize\"] = (30,30)\n",
    "# plt.xticks(df['rank'], df['freq'])\n",
    "plt.title('Wikipedia Biographies')\n",
    "plt.show()"
   ]
  },
  {
   "cell_type": "code",
   "execution_count": 1317,
   "metadata": {},
   "outputs": [
    {
     "data": {
      "text/html": [
       "<div>\n",
       "<style scoped>\n",
       "    .dataframe tbody tr th:only-of-type {\n",
       "        vertical-align: middle;\n",
       "    }\n",
       "\n",
       "    .dataframe tbody tr th {\n",
       "        vertical-align: top;\n",
       "    }\n",
       "\n",
       "    .dataframe thead th {\n",
       "        text-align: right;\n",
       "    }\n",
       "</style>\n",
       "<table border=\"1\" class=\"dataframe\">\n",
       "  <thead>\n",
       "    <tr style=\"text-align: right;\">\n",
       "      <th></th>\n",
       "      <th>lowercase_word</th>\n",
       "      <th>pos</th>\n",
       "      <th>freq</th>\n",
       "      <th>doc</th>\n",
       "      <th>rank</th>\n",
       "      <th>is_stopword</th>\n",
       "    </tr>\n",
       "  </thead>\n",
       "  <tbody>\n",
       "    <tr>\n",
       "      <th>0</th>\n",
       "      <td>s</td>\n",
       "      <td>PROPN</td>\n",
       "      <td>12298.0</td>\n",
       "      <td>doc275</td>\n",
       "      <td>1</td>\n",
       "      <td>False</td>\n",
       "    </tr>\n",
       "    <tr>\n",
       "      <th>2</th>\n",
       "      <td>got</td>\n",
       "      <td>VERB</td>\n",
       "      <td>12298.0</td>\n",
       "      <td>doc201</td>\n",
       "      <td>3</td>\n",
       "      <td>False</td>\n",
       "    </tr>\n",
       "    <tr>\n",
       "      <th>3</th>\n",
       "      <td>good</td>\n",
       "      <td>ADJ</td>\n",
       "      <td>12298.0</td>\n",
       "      <td>doc3</td>\n",
       "      <td>4</td>\n",
       "      <td>False</td>\n",
       "    </tr>\n",
       "    <tr>\n",
       "      <th>5</th>\n",
       "      <td>post</td>\n",
       "      <td>VERB</td>\n",
       "      <td>12298.0</td>\n",
       "      <td>doc473</td>\n",
       "      <td>6</td>\n",
       "      <td>False</td>\n",
       "    </tr>\n",
       "    <tr>\n",
       "      <th>7</th>\n",
       "      <td>story</td>\n",
       "      <td>NOUN</td>\n",
       "      <td>12298.0</td>\n",
       "      <td>doc433</td>\n",
       "      <td>8</td>\n",
       "      <td>False</td>\n",
       "    </tr>\n",
       "    <tr>\n",
       "      <th>8</th>\n",
       "      <td>jealousy</td>\n",
       "      <td>NOUN</td>\n",
       "      <td>12298.0</td>\n",
       "      <td>doc222</td>\n",
       "      <td>9</td>\n",
       "      <td>False</td>\n",
       "    </tr>\n",
       "    <tr>\n",
       "      <th>11</th>\n",
       "      <td>deserves</td>\n",
       "      <td>VERB</td>\n",
       "      <td>12298.0</td>\n",
       "      <td>doc229</td>\n",
       "      <td>12</td>\n",
       "      <td>False</td>\n",
       "    </tr>\n",
       "    <tr>\n",
       "      <th>14</th>\n",
       "      <td>lover</td>\n",
       "      <td>NOUN</td>\n",
       "      <td>12298.0</td>\n",
       "      <td>doc385</td>\n",
       "      <td>15</td>\n",
       "      <td>False</td>\n",
       "    </tr>\n",
       "    <tr>\n",
       "      <th>16</th>\n",
       "      <td>avoided</td>\n",
       "      <td>VERB</td>\n",
       "      <td>12298.0</td>\n",
       "      <td>doc300</td>\n",
       "      <td>17</td>\n",
       "      <td>False</td>\n",
       "    </tr>\n",
       "    <tr>\n",
       "      <th>22</th>\n",
       "      <td>know</td>\n",
       "      <td>VERB</td>\n",
       "      <td>12298.0</td>\n",
       "      <td>doc457</td>\n",
       "      <td>23</td>\n",
       "      <td>False</td>\n",
       "    </tr>\n",
       "  </tbody>\n",
       "</table>\n",
       "</div>"
      ],
      "text/plain": [
       "   lowercase_word    pos     freq     doc  rank  is_stopword\n",
       "0               s  PROPN  12298.0  doc275     1        False\n",
       "2             got   VERB  12298.0  doc201     3        False\n",
       "3            good    ADJ  12298.0    doc3     4        False\n",
       "5            post   VERB  12298.0  doc473     6        False\n",
       "7           story   NOUN  12298.0  doc433     8        False\n",
       "8        jealousy   NOUN  12298.0  doc222     9        False\n",
       "11       deserves   VERB  12298.0  doc229    12        False\n",
       "14          lover   NOUN  12298.0  doc385    15        False\n",
       "16        avoided   VERB  12298.0  doc300    17        False\n",
       "22           know   VERB  12298.0  doc457    23        False"
      ]
     },
     "execution_count": 1317,
     "metadata": {},
     "output_type": "execute_result"
    }
   ],
   "source": [
    "df2 = df_reddit_questions_lowercase_sorted[df_reddit_questions_lowercase_sorted.is_stopword == False]\n",
    "df2.head(10)"
   ]
  },
  {
   "cell_type": "code",
   "execution_count": 1318,
   "metadata": {},
   "outputs": [
    {
     "data": {
      "image/png": "[encoded data removed]",
      "text/plain": [
       "<Figure size 2160x2160 with 1 Axes>"
      ]
     },
     "metadata": {
      "needs_background": "light"
     },
     "output_type": "display_data"
    }
   ],
   "source": [
    "plt.xscale('log')\n",
    "plt.plot(df2['rank'],df2['freq'])\n",
    "plt.yscale('log')\n",
    "plt.rcParams[\"figure.figsize\"] = (30,30)\n",
    "# plt.xticks(df['rank'], df['freq'])\n",
    "plt.title('Reddit Questions')\n",
    "plt.show()"
   ]
  },
  {
   "cell_type": "markdown",
   "metadata": {},
   "source": [
    "The plots do not look like power-law distribution. Instead they depict an inverse relationship. My two plts look different from each other. The wikipedia biographies graph is more of a straight line but the reddit question shows an inverse curve almost, because there are a few words which have same frequency and they give a flattened appeareance to the curve at the top."
   ]
  },
  {
   "cell_type": "markdown",
   "metadata": {},
   "source": [
    "## Frequency of stopwords"
   ]
  },
  {
   "cell_type": "code",
   "execution_count": 1319,
   "metadata": {},
   "outputs": [
    {
     "name": "stdout",
     "output_type": "stream",
     "text": [
      "<class 'pandas.core.frame.DataFrame'>\n",
      "Int64Index: 236700 entries, 0 to 1048330\n",
      "Data columns (total 6 columns):\n",
      " #   Column          Non-Null Count   Dtype \n",
      "---  ------          --------------   ----- \n",
      " 0   lowercase_word  236700 non-null  object\n",
      " 1   pos             236700 non-null  object\n",
      " 2   freq            236700 non-null  int64 \n",
      " 3   doc             236700 non-null  object\n",
      " 4   rank            236700 non-null  int64 \n",
      " 5   is_stopword     236700 non-null  bool  \n",
      "dtypes: bool(1), int64(2), object(3)\n",
      "memory usage: 11.1+ MB\n"
     ]
    }
   ],
   "source": [
    "df_wiki_stopwords = df_wiki_bio_lowercase_sorted[df_wiki_bio_lowercase_sorted.is_stopword == True]\n",
    "df_wiki_stopwords.info()"
   ]
  },
  {
   "cell_type": "code",
   "execution_count": 1320,
   "metadata": {},
   "outputs": [
    {
     "data": {
      "text/plain": [
       "1002019959"
      ]
     },
     "execution_count": 1320,
     "metadata": {},
     "output_type": "execute_result"
    }
   ],
   "source": [
    "df_wiki_stopwords.freq.sum()"
   ]
  },
  {
   "cell_type": "code",
   "execution_count": 1321,
   "metadata": {},
   "outputs": [
    {
     "name": "stdout",
     "output_type": "stream",
     "text": [
      "<class 'pandas.core.frame.DataFrame'>\n",
      "Int64Index: 4225 entries, 1 to 7388\n",
      "Data columns (total 6 columns):\n",
      " #   Column          Non-Null Count  Dtype  \n",
      "---  ------          --------------  -----  \n",
      " 0   lowercase_word  4225 non-null   object \n",
      " 1   pos             4225 non-null   object \n",
      " 2   freq            2362 non-null   float64\n",
      " 3   doc             4225 non-null   object \n",
      " 4   rank            4225 non-null   int64  \n",
      " 5   is_stopword     4225 non-null   bool   \n",
      "dtypes: bool(1), float64(1), int64(1), object(3)\n",
      "memory usage: 202.2+ KB\n"
     ]
    }
   ],
   "source": [
    "df_reddit_stopwords = df_reddit_questions_lowercase_sorted[df_reddit_questions_lowercase_sorted.is_stopword \n",
    "                                                           == True]\n",
    "df_reddit_stopwords.info()"
   ]
  },
  {
   "cell_type": "code",
   "execution_count": 1322,
   "metadata": {},
   "outputs": [
    {
     "data": {
      "text/plain": [
       "3293545.0"
      ]
     },
     "execution_count": 1322,
     "metadata": {},
     "output_type": "execute_result"
    }
   ],
   "source": [
    "df_reddit_stopwords.freq.sum()"
   ]
  },
  {
   "cell_type": "markdown",
   "metadata": {},
   "source": [
    "The frequency of stopwords is much higher in the wiki collection that in the reddit collection. This might because reddit questions are short, thus packed with rare words which provide context, unlike wikipedia biographies which are long."
   ]
  },
  {
   "cell_type": "markdown",
   "metadata": {},
   "source": [
    "## Percentage of capital letters"
   ]
  },
  {
   "cell_type": "markdown",
   "metadata": {},
   "source": [
    "For this analysis I have not removed stopwords because there are stopwords which contain the capital letter and I wanted to retain it for an accurate percentage. I have removed the punctuatuation and digits though because the percentage is in terms of letters."
   ]
  },
  {
   "cell_type": "code",
   "execution_count": 1355,
   "metadata": {},
   "outputs": [
    {
     "data": {
      "text/html": [
       "<div>\n",
       "<style scoped>\n",
       "    .dataframe tbody tr th:only-of-type {\n",
       "        vertical-align: middle;\n",
       "    }\n",
       "\n",
       "    .dataframe tbody tr th {\n",
       "        vertical-align: top;\n",
       "    }\n",
       "\n",
       "    .dataframe thead th {\n",
       "        text-align: right;\n",
       "    }\n",
       "</style>\n",
       "<table border=\"1\" class=\"dataframe\">\n",
       "  <thead>\n",
       "    <tr style=\"text-align: right;\">\n",
       "      <th></th>\n",
       "      <th>word</th>\n",
       "      <th>pos</th>\n",
       "      <th>doc</th>\n",
       "      <th>lowercase_word</th>\n",
       "      <th>freq</th>\n",
       "      <th>capital_letter</th>\n",
       "      <th>word_length</th>\n",
       "    </tr>\n",
       "  </thead>\n",
       "  <tbody>\n",
       "    <tr>\n",
       "      <th>0</th>\n",
       "      <td>Francesco</td>\n",
       "      <td>PROPN</td>\n",
       "      <td>doc1</td>\n",
       "      <td>francesco</td>\n",
       "      <td>31</td>\n",
       "      <td>True</td>\n",
       "      <td>9</td>\n",
       "    </tr>\n",
       "    <tr>\n",
       "      <th>1</th>\n",
       "      <td>Redenti</td>\n",
       "      <td>PROPN</td>\n",
       "      <td>doc1</td>\n",
       "      <td>redenti</td>\n",
       "      <td>1</td>\n",
       "      <td>True</td>\n",
       "      <td>7</td>\n",
       "    </tr>\n",
       "    <tr>\n",
       "      <th>2</th>\n",
       "      <td>was</td>\n",
       "      <td>AUX</td>\n",
       "      <td>doc1</td>\n",
       "      <td>was</td>\n",
       "      <td>7133</td>\n",
       "      <td>False</td>\n",
       "      <td>3</td>\n",
       "    </tr>\n",
       "    <tr>\n",
       "      <th>3</th>\n",
       "      <td>an</td>\n",
       "      <td>DET</td>\n",
       "      <td>doc1</td>\n",
       "      <td>an</td>\n",
       "      <td>4363</td>\n",
       "      <td>False</td>\n",
       "      <td>2</td>\n",
       "    </tr>\n",
       "    <tr>\n",
       "      <th>4</th>\n",
       "      <td>Italian</td>\n",
       "      <td>ADJ</td>\n",
       "      <td>doc1</td>\n",
       "      <td>italian</td>\n",
       "      <td>293</td>\n",
       "      <td>True</td>\n",
       "      <td>7</td>\n",
       "    </tr>\n",
       "  </tbody>\n",
       "</table>\n",
       "</div>"
      ],
      "text/plain": [
       "        word    pos   doc lowercase_word  freq  capital_letter  word_length\n",
       "0  Francesco  PROPN  doc1      francesco    31            True            9\n",
       "1    Redenti  PROPN  doc1        redenti     1            True            7\n",
       "2        was    AUX  doc1            was  7133           False            3\n",
       "3         an    DET  doc1             an  4363           False            2\n",
       "4    Italian    ADJ  doc1        italian   293            True            7"
      ]
     },
     "execution_count": 1355,
     "metadata": {},
     "output_type": "execute_result"
    }
   ],
   "source": [
    "# create column to indicate if word has capital letter\n",
    "df_wiki_bio['capital_letter']= df_wiki_bio.word.apply(lambda x: any(character.isupper() for character in x))\n",
    "df_reddit_questions['capital_letter']= df_reddit_questions.word.apply(\n",
    "    lambda x: any(character.isupper() for character in x))\n",
    "df_wiki_bio.head()"
   ]
  },
  {
   "cell_type": "code",
   "execution_count": 1356,
   "metadata": {},
   "outputs": [
    {
     "data": {
      "text/plain": [
       "(        word    pos   doc lowercase_word  freq  capital_letter  word_length\n",
       " 0  Francesco  PROPN  doc1      francesco    31            True            9\n",
       " 1    Redenti  PROPN  doc1        redenti     1            True            7,\n",
       "        word   pos   doc lowercase_word  freq  capital_letter  word_length\n",
       " 0  Fastfood   ADJ  doc1       fastfood  31.0            True            8\n",
       " 1   workers  NOUN  doc1        workers   1.0           False            7)"
      ]
     },
     "execution_count": 1356,
     "metadata": {},
     "output_type": "execute_result"
    }
   ],
   "source": [
    "# create column to reflect the word length\n",
    "df_wiki_bio ['word_length'] = df_wiki_bio.word.str.len()\n",
    "df_reddit_questions ['word_length'] = df_reddit_questions.word.str.len()\n",
    "df_wiki_bio.head(2), df_reddit_questions.head(2)"
   ]
  },
  {
   "cell_type": "code",
   "execution_count": 1373,
   "metadata": {},
   "outputs": [
    {
     "data": {
      "text/plain": [
       "(1480331352, 5918478.0)"
      ]
     },
     "execution_count": 1373,
     "metadata": {},
     "output_type": "execute_result"
    }
   ],
   "source": [
    "# select rows with capital letters\n",
    "df_wiki_bio_capital = df_wiki_bio[df_wiki_bio.capital_letter == True]\n",
    "df_reddit_questions_capital = df_reddit_questions[df_reddit_questions.capital_letter == True]\n",
    "# df_wiki_bio_capital.iloc[a].freq.sum()\n",
    "# count the capital letters\n",
    "# wiki_capital_index = df_wiki_bio_capital.head(5).word.str.findall('[A-Z]').index.tolist()\n",
    "wiki_capital_letters = df_wiki_bio_capital.freq.sum()\n",
    "wiki_total_letters = df_wiki_bio.freq.sum()\n",
    "reddit_capital_letters = df_reddit_questions_capital.freq.sum()\n",
    "reddit_total_letters = df_reddit_questions.freq.sum()\n",
    "# a=df_wiki_bio_capital.freq.sum()\n",
    "wiki_total_letters,reddit_total_letters"
   ]
  },
  {
   "cell_type": "code",
   "execution_count": 1372,
   "metadata": {},
   "outputs": [
    {
     "data": {
      "text/plain": [
       "(22.897547670124602, 11.850664985153278)"
      ]
     },
     "execution_count": 1372,
     "metadata": {},
     "output_type": "execute_result"
    }
   ],
   "source": [
    "Percentage_wiki_capital = wiki_capital_letters/wiki_total_letters *100\n",
    "Percentage_reddit_capital = reddit_capital_letters/reddit_total_letters *100\n",
    "Percentage_wiki_capital, Percentage_reddit_capital"
   ]
  },
  {
   "cell_type": "markdown",
   "metadata": {},
   "source": [
    "the % of capital letters in wikipedia biographies is higher than in the reddit questions which might be because the no.of words in wikipedia biographies is more that the total word count in reddit question. Also, reddit is not a formal platform, so, people might not follow rules of grammar there all the time. "
   ]
  },
  {
   "cell_type": "markdown",
   "metadata": {},
   "source": [
    "## Average Characters per word"
   ]
  },
  {
   "cell_type": "markdown",
   "metadata": {},
   "source": [
    "Here I am choosing df without stopwords because they do not add more information in this regard."
   ]
  },
  {
   "cell_type": "code",
   "execution_count": 1125,
   "metadata": {},
   "outputs": [
    {
     "data": {
      "text/html": [
       "<div>\n",
       "<style scoped>\n",
       "    .dataframe tbody tr th:only-of-type {\n",
       "        vertical-align: middle;\n",
       "    }\n",
       "\n",
       "    .dataframe tbody tr th {\n",
       "        vertical-align: top;\n",
       "    }\n",
       "\n",
       "    .dataframe thead th {\n",
       "        text-align: right;\n",
       "    }\n",
       "</style>\n",
       "<table border=\"1\" class=\"dataframe\">\n",
       "  <thead>\n",
       "    <tr style=\"text-align: right;\">\n",
       "      <th></th>\n",
       "      <th>lowercase_word</th>\n",
       "      <th>pos</th>\n",
       "      <th>freq</th>\n",
       "      <th>rank</th>\n",
       "      <th>is_stopword</th>\n",
       "    </tr>\n",
       "  </thead>\n",
       "  <tbody>\n",
       "    <tr>\n",
       "      <th>37</th>\n",
       "      <td>born</td>\n",
       "      <td>VERB</td>\n",
       "      <td>4923</td>\n",
       "      <td>38</td>\n",
       "      <td>False</td>\n",
       "    </tr>\n",
       "    <tr>\n",
       "      <th>38</th>\n",
       "      <td>born</td>\n",
       "      <td>PROPN</td>\n",
       "      <td>4923</td>\n",
       "      <td>39</td>\n",
       "      <td>False</td>\n",
       "    </tr>\n",
       "    <tr>\n",
       "      <th>42</th>\n",
       "      <td>career</td>\n",
       "      <td>NOUN</td>\n",
       "      <td>4496</td>\n",
       "      <td>43</td>\n",
       "      <td>False</td>\n",
       "    </tr>\n",
       "    <tr>\n",
       "      <th>43</th>\n",
       "      <td>career</td>\n",
       "      <td>PROPN</td>\n",
       "      <td>4496</td>\n",
       "      <td>44</td>\n",
       "      <td>False</td>\n",
       "    </tr>\n",
       "    <tr>\n",
       "      <th>44</th>\n",
       "      <td>career</td>\n",
       "      <td>VERB</td>\n",
       "      <td>4496</td>\n",
       "      <td>45</td>\n",
       "      <td>False</td>\n",
       "    </tr>\n",
       "  </tbody>\n",
       "</table>\n",
       "</div>"
      ],
      "text/plain": [
       "   lowercase_word    pos  freq  rank  is_stopword\n",
       "37           born   VERB  4923    38        False\n",
       "38           born  PROPN  4923    39        False\n",
       "42         career   NOUN  4496    43        False\n",
       "43         career  PROPN  4496    44        False\n",
       "44         career   VERB  4496    45        False"
      ]
     },
     "execution_count": 1125,
     "metadata": {},
     "output_type": "execute_result"
    }
   ],
   "source": [
    "df_wiki.head()"
   ]
  },
  {
   "cell_type": "code",
   "execution_count": 1128,
   "metadata": {},
   "outputs": [
    {
     "data": {
      "text/plain": [
       "(891875, 15384)"
      ]
     },
     "execution_count": 1128,
     "metadata": {},
     "output_type": "execute_result"
    }
   ],
   "source": [
    "# leave out the stopwords\n",
    "df_wiki = df_wiki_bio_lowercase_sorted[df_wiki_bio_lowercase_sorted.is_stopword == False].copy()\n",
    "df_reddit = df_reddit_questions_lowercase_sorted[df_reddit_questions_lowercase_sorted.is_stopword == False].copy()\n",
    "\n",
    "df_wiki ['word_length'] = df_wiki.lowercase_word.str.len()\n",
    "df_reddit ['word_length'] = df_reddit.lowercase_word.str.len()\n",
    "\n",
    "#sum of word length of all words\n",
    "wiki_total_letters = df_wiki.word_length.sum()\n",
    "reddit_total_letters = df_reddit.word_length.sum()\n",
    "wiki_total_letters,reddit_total_letters"
   ]
  },
  {
   "cell_type": "code",
   "execution_count": 1132,
   "metadata": {},
   "outputs": [
    {
     "data": {
      "text/plain": [
       "(117916, 2583)"
      ]
     },
     "execution_count": 1132,
     "metadata": {},
     "output_type": "execute_result"
    }
   ],
   "source": [
    "# total  no.of words in the collection\n",
    "df_wiki.shape[0], df_reddit.shape[0]"
   ]
  },
  {
   "cell_type": "markdown",
   "metadata": {},
   "source": [
    "Since fraction of avg. characters per word won't mean anything, I am rounding the output."
   ]
  },
  {
   "cell_type": "code",
   "execution_count": 1133,
   "metadata": {},
   "outputs": [
    {
     "data": {
      "text/plain": [
       "(8.0, 6.0)"
      ]
     },
     "execution_count": 1133,
     "metadata": {},
     "output_type": "execute_result"
    }
   ],
   "source": [
    "# sum of word length of all words / the total no.of words in the collection\n",
    "round(wiki_total_letters/df_wiki.shape[0]), round(reddit_total_letters/df_reddit.shape[0])"
   ]
  },
  {
   "cell_type": "markdown",
   "metadata": {},
   "source": [
    "We observe the average characters per word is higher in wikipedia biographies."
   ]
  },
  {
   "cell_type": "markdown",
   "metadata": {},
   "source": [
    "## Percentage of nouns, adjectives, verbs, adverbs, and pronouns"
   ]
  },
  {
   "cell_type": "code",
   "execution_count": null,
   "metadata": {},
   "outputs": [],
   "source": [
    "df_wiki.tail(15)"
   ]
  },
  {
   "cell_type": "code",
   "execution_count": 1134,
   "metadata": {},
   "outputs": [],
   "source": [
    "# get count of nouns, adjectives, verbs, adverbs, and pronouns\n",
    "noun_count_wiki = df_wiki[df_wiki.pos == 'NOUN']\n",
    "adj_count_wiki = df_wiki[df_wiki.pos == 'ADJ']\n",
    "verb_count_wiki = df_wiki[df_wiki.pos == 'VERB']\n",
    "adverb_count_wiki = df_wiki[df_wiki.pos == 'ADV']\n",
    "pronoun_count_wiki = df_wiki[df_wiki.pos == 'PROPN']\n",
    "\n",
    "noun_count_reddit = df_reddit[df_reddit.pos == 'NOUN']\n",
    "adj_count_reddit = df_reddit[df_reddit.pos == 'ADJ']\n",
    "verb_count_reddit = df_reddit[df_reddit.pos == 'VERB']\n",
    "adverb_count_reddit = df_reddit[df_reddit.pos == 'ADV']\n",
    "pronoun_count_reddit = df_reddit[df_reddit.pos == 'PROPN']"
   ]
  },
  {
   "cell_type": "code",
   "execution_count": 1140,
   "metadata": {},
   "outputs": [
    {
     "data": {
      "text/plain": [
       "(25.553123415543304, 43.68809891077719)"
      ]
     },
     "execution_count": 1140,
     "metadata": {},
     "output_type": "execute_result"
    }
   ],
   "source": [
    "noun_count_wiki.freq.sum()/df_wiki.freq.sum()*100, noun_count_reddit.freq.sum()/df_reddit.freq.sum()*100"
   ]
  },
  {
   "cell_type": "code",
   "execution_count": 1141,
   "metadata": {},
   "outputs": [
    {
     "data": {
      "text/plain": [
       "(10.701058672924862, 16.69388658149255)"
      ]
     },
     "execution_count": 1141,
     "metadata": {},
     "output_type": "execute_result"
    }
   ],
   "source": [
    "adj_count_wiki.freq.sum()/df_wiki.freq.sum()*100, adj_count_reddit.freq.sum()/df_reddit.freq.sum()*100"
   ]
  },
  {
   "cell_type": "code",
   "execution_count": 1142,
   "metadata": {},
   "outputs": [
    {
     "data": {
      "text/plain": [
       "(18.963830380749148, 27.152649669815652)"
      ]
     },
     "execution_count": 1142,
     "metadata": {},
     "output_type": "execute_result"
    }
   ],
   "source": [
    "verb_count_wiki.freq.sum()/df_wiki.freq.sum()*100, verb_count_reddit.freq.sum()/df_reddit.freq.sum()*100"
   ]
  },
  {
   "cell_type": "code",
   "execution_count": 1143,
   "metadata": {},
   "outputs": [
    {
     "data": {
      "text/plain": [
       "(2.5211538675217295, 2.649301717160093)"
      ]
     },
     "execution_count": 1143,
     "metadata": {},
     "output_type": "execute_result"
    }
   ],
   "source": [
    "adverb_count_wiki.freq.sum()/df_wiki.freq.sum()*100, adverb_count_reddit.freq.sum()/df_reddit.freq.sum()*100"
   ]
  },
  {
   "cell_type": "code",
   "execution_count": 1144,
   "metadata": {},
   "outputs": [
    {
     "data": {
      "text/plain": [
       "(40.16939468564087, 6.353689954902123)"
      ]
     },
     "execution_count": 1144,
     "metadata": {},
     "output_type": "execute_result"
    }
   ],
   "source": [
    "pronoun_count_wiki.freq.sum()/df_wiki.freq.sum()*100, pronoun_count_reddit.freq.sum()/df_reddit.freq.sum()*100"
   ]
  },
  {
   "cell_type": "markdown",
   "metadata": {},
   "source": [
    "The percentage of all except Pronouns is higher in reddit questions. Since in biographies there is an often reference to the person the biography is about, it makes sense that the percentage of Pronouns is higher."
   ]
  },
  {
   "cell_type": "markdown",
   "metadata": {},
   "source": [
    "## The top 10 nouns, top 10 verbs, and top 10 adjectives"
   ]
  },
  {
   "cell_type": "markdown",
   "metadata": {},
   "source": [
    "Since, the df is sorted by frequency, the first 10 will be the top 10."
   ]
  },
  {
   "cell_type": "code",
   "execution_count": 1152,
   "metadata": {},
   "outputs": [
    {
     "data": {
      "text/plain": [
       "(42         career\n",
       " 61           life\n",
       " 75          later\n",
       " 80         school\n",
       " 91     university\n",
       " 100         years\n",
       " 117      national\n",
       " 125          time\n",
       " 138         world\n",
       " 142       college\n",
       " Name: lowercase_word, dtype: object,\n",
       " 1      minutes\n",
       " 2       sports\n",
       " 11       story\n",
       " 12        food\n",
       " 14        info\n",
       " 15       mouth\n",
       " 23    jealousy\n",
       " 29     parents\n",
       " 35       lover\n",
       " 38    students\n",
       " Name: lowercase_word, dtype: object)"
      ]
     },
     "execution_count": 1152,
     "metadata": {},
     "output_type": "execute_result"
    }
   ],
   "source": [
    "noun_count_wiki.lowercase_word.head(10), noun_count_reddit.lowercase_word.head(10)"
   ]
  },
  {
   "cell_type": "code",
   "execution_count": 1153,
   "metadata": {},
   "outputs": [
    {
     "data": {
      "text/plain": [
       "(63         life\n",
       " 69        early\n",
       " 76        later\n",
       " 95          new\n",
       " 116    national\n",
       " 130      played\n",
       " 154     married\n",
       " 162      second\n",
       " 174    american\n",
       " 189    personal\n",
       " Name: lowercase_word, dtype: object,\n",
       " 4            drunk\n",
       " 6             good\n",
       " 7      respectable\n",
       " 22            best\n",
       " 49        juiciest\n",
       " 62         serious\n",
       " 70        favorite\n",
       " 77          common\n",
       " 83           crazy\n",
       " 100           live\n",
       " Name: lowercase_word, dtype: object)"
      ]
     },
     "execution_count": 1153,
     "metadata": {},
     "output_type": "execute_result"
    }
   ],
   "source": [
    "adj_count_wiki.lowercase_word.head(10), adj_count_reddit.lowercase_word.head(10)"
   ]
  },
  {
   "cell_type": "code",
   "execution_count": 1154,
   "metadata": {},
   "outputs": [
    {
     "data": {
      "text/plain": [
       "(37         born\n",
       " 44       career\n",
       " 98        years\n",
       " 114    national\n",
       " 123        died\n",
       " 126        time\n",
       " 131      played\n",
       " 133        made\n",
       " 137       world\n",
       " 141     college\n",
       " Name: lowercase_word, dtype: object,\n",
       " 8          got\n",
       " 9         went\n",
       " 13     avoided\n",
       " 18     reading\n",
       " 20        know\n",
       " 24    deserves\n",
       " 30        post\n",
       " 59        make\n",
       " 61     removed\n",
       " 69     respond\n",
       " Name: lowercase_word, dtype: object)"
      ]
     },
     "execution_count": 1154,
     "metadata": {},
     "output_type": "execute_result"
    }
   ],
   "source": [
    "verb_count_wiki.lowercase_word.head(10), verb_count_reddit.lowercase_word.head(10)"
   ]
  },
  {
   "cell_type": "code",
   "execution_count": 1155,
   "metadata": {},
   "outputs": [
    {
     "data": {
      "text/plain": [
       "(68             early\n",
       " 74             later\n",
       " 166           second\n",
       " 203    international\n",
       " 281             high\n",
       " 338             left\n",
       " 381             home\n",
       " 409             best\n",
       " 444            south\n",
       " 463            third\n",
       " Name: lowercase_word, dtype: object,\n",
       " 96       absolutely\n",
       " 188          matter\n",
       " 201            long\n",
       " 320        actually\n",
       " 356            back\n",
       " 393          longer\n",
       " 431        suddenly\n",
       " 535        actually\n",
       " 598         forever\n",
       " 644    accidentally\n",
       " Name: lowercase_word, dtype: object)"
      ]
     },
     "execution_count": 1155,
     "metadata": {},
     "output_type": "execute_result"
    }
   ],
   "source": [
    "adverb_count_wiki.lowercase_word.head(10), adverb_count_reddit.lowercase_word.head(10)"
   ]
  },
  {
   "cell_type": "code",
   "execution_count": 1156,
   "metadata": {},
   "outputs": [
    {
     "data": {
      "text/plain": [
       "(38           born\n",
       " 43         career\n",
       " 62           life\n",
       " 70          early\n",
       " 73          later\n",
       " 81         school\n",
       " 92     university\n",
       " 96            new\n",
       " 99          years\n",
       " 101           two\n",
       " Name: lowercase_word, dtype: object,\n",
       " 28               s\n",
       " 79        exretail\n",
       " 97      basketball\n",
       " 112         reddit\n",
       " 130         reddit\n",
       " 133           kong\n",
       " 166         reddit\n",
       " 181       students\n",
       " 230    programming\n",
       " 235           sexy\n",
       " Name: lowercase_word, dtype: object)"
      ]
     },
     "execution_count": 1156,
     "metadata": {},
     "output_type": "execute_result"
    }
   ],
   "source": [
    "pronoun_count_wiki.lowercase_word.head(10), pronoun_count_reddit.lowercase_word.head(10)"
   ]
  },
  {
   "cell_type": "markdown",
   "metadata": {},
   "source": [
    "This gives an interesting context because the words associated with wikipedia biographies are education, career and personal life related, while as in case of reddit question the content might be of gossip, sports, and fun type."
   ]
  },
  {
   "cell_type": "markdown",
   "metadata": {},
   "source": [
    "## TF-IDF"
   ]
  },
  {
   "cell_type": "code",
   "execution_count": 1288,
   "metadata": {},
   "outputs": [],
   "source": [
    "doc_list=['doc1','doc2','doc3','doc4','doc5','doc6','doc7','doc8','doc9','doc10']\n",
    "#remove stopwords because they are unncessary, even though their TF-IDF will not be significant \n",
    "df_wiki = df_wiki_bio_lowercase_sorted[df_wiki_bio_lowercase_sorted.is_stopword == False]\n",
    "df_wiki_10 = df_wiki[df_wiki.doc.isin(doc_list)].copy()"
   ]
  },
  {
   "cell_type": "code",
   "execution_count": 1289,
   "metadata": {},
   "outputs": [
    {
     "name": "stdout",
     "output_type": "stream",
     "text": [
      "<class 'pandas.core.frame.DataFrame'>\n",
      "Int64Index: 1097 entries, 92196 to 1003675\n",
      "Data columns (total 6 columns):\n",
      " #   Column          Non-Null Count  Dtype \n",
      "---  ------          --------------  ----- \n",
      " 0   lowercase_word  1097 non-null   object\n",
      " 1   pos             1097 non-null   object\n",
      " 2   freq            1097 non-null   int64 \n",
      " 3   doc             1097 non-null   object\n",
      " 4   rank            1097 non-null   int64 \n",
      " 5   is_stopword     1097 non-null   bool  \n",
      "dtypes: bool(1), int64(2), object(3)\n",
      "memory usage: 52.5+ KB\n"
     ]
    }
   ],
   "source": [
    "df_wiki_10.info()"
   ]
  },
  {
   "cell_type": "code",
   "execution_count": 1292,
   "metadata": {},
   "outputs": [],
   "source": [
    "# calculate tf\n",
    "df_wiki_10['tf']= np.log(df_wiki_10.freq + 1)"
   ]
  },
  {
   "cell_type": "code",
   "execution_count": 1296,
   "metadata": {},
   "outputs": [
    {
     "data": {
      "text/html": [
       "<div>\n",
       "<style scoped>\n",
       "    .dataframe tbody tr th:only-of-type {\n",
       "        vertical-align: middle;\n",
       "    }\n",
       "\n",
       "    .dataframe tbody tr th {\n",
       "        vertical-align: top;\n",
       "    }\n",
       "\n",
       "    .dataframe thead th {\n",
       "        text-align: right;\n",
       "    }\n",
       "</style>\n",
       "<table border=\"1\" class=\"dataframe\">\n",
       "  <thead>\n",
       "    <tr style=\"text-align: right;\">\n",
       "      <th></th>\n",
       "      <th>lowercase_word</th>\n",
       "      <th>doc</th>\n",
       "    </tr>\n",
       "  </thead>\n",
       "  <tbody>\n",
       "    <tr>\n",
       "      <th>0</th>\n",
       "      <td>1930s</td>\n",
       "      <td>1</td>\n",
       "    </tr>\n",
       "    <tr>\n",
       "      <th>1</th>\n",
       "      <td>19th</td>\n",
       "      <td>1</td>\n",
       "    </tr>\n",
       "    <tr>\n",
       "      <th>2</th>\n",
       "      <td>3rd</td>\n",
       "      <td>1</td>\n",
       "    </tr>\n",
       "    <tr>\n",
       "      <th>3</th>\n",
       "      <td>49ers</td>\n",
       "      <td>1</td>\n",
       "    </tr>\n",
       "    <tr>\n",
       "      <th>4</th>\n",
       "      <td>6th</td>\n",
       "      <td>1</td>\n",
       "    </tr>\n",
       "  </tbody>\n",
       "</table>\n",
       "</div>"
      ],
      "text/plain": [
       "  lowercase_word  doc\n",
       "0          1930s    1\n",
       "1           19th    1\n",
       "2            3rd    1\n",
       "3          49ers    1\n",
       "4            6th    1"
      ]
     },
     "execution_count": 1296,
     "metadata": {},
     "output_type": "execute_result"
    }
   ],
   "source": [
    "#no.of doc containing term\n",
    "df_new = df_wiki_10.groupby('lowercase_word').doc.count().reset_index()\n",
    "df_new.head()"
   ]
  },
  {
   "cell_type": "code",
   "execution_count": 1331,
   "metadata": {},
   "outputs": [
    {
     "data": {
      "text/html": [
       "<div>\n",
       "<style scoped>\n",
       "    .dataframe tbody tr th:only-of-type {\n",
       "        vertical-align: middle;\n",
       "    }\n",
       "\n",
       "    .dataframe tbody tr th {\n",
       "        vertical-align: top;\n",
       "    }\n",
       "\n",
       "    .dataframe thead th {\n",
       "        text-align: right;\n",
       "    }\n",
       "</style>\n",
       "<table border=\"1\" class=\"dataframe\">\n",
       "  <thead>\n",
       "    <tr style=\"text-align: right;\">\n",
       "      <th></th>\n",
       "      <th>lowercase_word</th>\n",
       "      <th>pos</th>\n",
       "      <th>freq</th>\n",
       "      <th>doc_x</th>\n",
       "      <th>rank</th>\n",
       "      <th>is_stopword</th>\n",
       "      <th>tf</th>\n",
       "      <th>doc_freq</th>\n",
       "      <th>idf</th>\n",
       "      <th>tf_idf</th>\n",
       "    </tr>\n",
       "  </thead>\n",
       "  <tbody>\n",
       "    <tr>\n",
       "      <th>0</th>\n",
       "      <td>born</td>\n",
       "      <td>VERB</td>\n",
       "      <td>4923</td>\n",
       "      <td>doc7</td>\n",
       "      <td>92197</td>\n",
       "      <td>False</td>\n",
       "      <td>8.501876</td>\n",
       "      <td>5</td>\n",
       "      <td>8.600902</td>\n",
       "      <td>73.123810</td>\n",
       "    </tr>\n",
       "    <tr>\n",
       "      <th>1</th>\n",
       "      <td>born</td>\n",
       "      <td>VERB</td>\n",
       "      <td>4923</td>\n",
       "      <td>doc1</td>\n",
       "      <td>92250</td>\n",
       "      <td>False</td>\n",
       "      <td>8.501876</td>\n",
       "      <td>5</td>\n",
       "      <td>8.600902</td>\n",
       "      <td>73.123810</td>\n",
       "    </tr>\n",
       "    <tr>\n",
       "      <th>2</th>\n",
       "      <td>born</td>\n",
       "      <td>VERB</td>\n",
       "      <td>4923</td>\n",
       "      <td>doc8</td>\n",
       "      <td>92285</td>\n",
       "      <td>False</td>\n",
       "      <td>8.501876</td>\n",
       "      <td>5</td>\n",
       "      <td>8.600902</td>\n",
       "      <td>73.123810</td>\n",
       "    </tr>\n",
       "    <tr>\n",
       "      <th>3</th>\n",
       "      <td>born</td>\n",
       "      <td>VERB</td>\n",
       "      <td>4923</td>\n",
       "      <td>doc4</td>\n",
       "      <td>92351</td>\n",
       "      <td>False</td>\n",
       "      <td>8.501876</td>\n",
       "      <td>5</td>\n",
       "      <td>8.600902</td>\n",
       "      <td>73.123810</td>\n",
       "    </tr>\n",
       "    <tr>\n",
       "      <th>4</th>\n",
       "      <td>born</td>\n",
       "      <td>VERB</td>\n",
       "      <td>4923</td>\n",
       "      <td>doc3</td>\n",
       "      <td>93217</td>\n",
       "      <td>False</td>\n",
       "      <td>8.501876</td>\n",
       "      <td>5</td>\n",
       "      <td>8.600902</td>\n",
       "      <td>73.123810</td>\n",
       "    </tr>\n",
       "    <tr>\n",
       "      <th>...</th>\n",
       "      <td>...</td>\n",
       "      <td>...</td>\n",
       "      <td>...</td>\n",
       "      <td>...</td>\n",
       "      <td>...</td>\n",
       "      <td>...</td>\n",
       "      <td>...</td>\n",
       "      <td>...</td>\n",
       "      <td>...</td>\n",
       "      <td>...</td>\n",
       "    </tr>\n",
       "    <tr>\n",
       "      <th>1092</th>\n",
       "      <td>hubbells</td>\n",
       "      <td>PROPN</td>\n",
       "      <td>1</td>\n",
       "      <td>doc8</td>\n",
       "      <td>1003306</td>\n",
       "      <td>False</td>\n",
       "      <td>0.693147</td>\n",
       "      <td>1</td>\n",
       "      <td>10.210340</td>\n",
       "      <td>7.077269</td>\n",
       "    </tr>\n",
       "    <tr>\n",
       "      <th>1093</th>\n",
       "      <td>panamacalifornia</td>\n",
       "      <td>PROPN</td>\n",
       "      <td>1</td>\n",
       "      <td>doc8</td>\n",
       "      <td>1003421</td>\n",
       "      <td>False</td>\n",
       "      <td>0.693147</td>\n",
       "      <td>1</td>\n",
       "      <td>10.210340</td>\n",
       "      <td>7.077269</td>\n",
       "    </tr>\n",
       "    <tr>\n",
       "      <th>1094</th>\n",
       "      <td>lummis</td>\n",
       "      <td>PROPN</td>\n",
       "      <td>1</td>\n",
       "      <td>doc8</td>\n",
       "      <td>1003443</td>\n",
       "      <td>False</td>\n",
       "      <td>0.693147</td>\n",
       "      <td>1</td>\n",
       "      <td>10.210340</td>\n",
       "      <td>7.077269</td>\n",
       "    </tr>\n",
       "    <tr>\n",
       "      <th>1095</th>\n",
       "      <td>chelly</td>\n",
       "      <td>ADV</td>\n",
       "      <td>1</td>\n",
       "      <td>doc8</td>\n",
       "      <td>1003656</td>\n",
       "      <td>False</td>\n",
       "      <td>0.693147</td>\n",
       "      <td>1</td>\n",
       "      <td>10.210340</td>\n",
       "      <td>7.077269</td>\n",
       "    </tr>\n",
       "    <tr>\n",
       "      <th>1096</th>\n",
       "      <td>laut</td>\n",
       "      <td>PROPN</td>\n",
       "      <td>1</td>\n",
       "      <td>doc8</td>\n",
       "      <td>1003676</td>\n",
       "      <td>False</td>\n",
       "      <td>0.693147</td>\n",
       "      <td>1</td>\n",
       "      <td>10.210340</td>\n",
       "      <td>7.077269</td>\n",
       "    </tr>\n",
       "  </tbody>\n",
       "</table>\n",
       "<p>1097 rows × 10 columns</p>\n",
       "</div>"
      ],
      "text/plain": [
       "        lowercase_word    pos  freq doc_x     rank  is_stopword        tf  \\\n",
       "0                 born   VERB  4923  doc7    92197        False  8.501876   \n",
       "1                 born   VERB  4923  doc1    92250        False  8.501876   \n",
       "2                 born   VERB  4923  doc8    92285        False  8.501876   \n",
       "3                 born   VERB  4923  doc4    92351        False  8.501876   \n",
       "4                 born   VERB  4923  doc3    93217        False  8.501876   \n",
       "...                ...    ...   ...   ...      ...          ...       ...   \n",
       "1092          hubbells  PROPN     1  doc8  1003306        False  0.693147   \n",
       "1093  panamacalifornia  PROPN     1  doc8  1003421        False  0.693147   \n",
       "1094            lummis  PROPN     1  doc8  1003443        False  0.693147   \n",
       "1095            chelly    ADV     1  doc8  1003656        False  0.693147   \n",
       "1096              laut  PROPN     1  doc8  1003676        False  0.693147   \n",
       "\n",
       "      doc_freq        idf     tf_idf  \n",
       "0            5   8.600902  73.123810  \n",
       "1            5   8.600902  73.123810  \n",
       "2            5   8.600902  73.123810  \n",
       "3            5   8.600902  73.123810  \n",
       "4            5   8.600902  73.123810  \n",
       "...        ...        ...        ...  \n",
       "1092         1  10.210340   7.077269  \n",
       "1093         1  10.210340   7.077269  \n",
       "1094         1  10.210340   7.077269  \n",
       "1095         1  10.210340   7.077269  \n",
       "1096         1  10.210340   7.077269  \n",
       "\n",
       "[1097 rows x 10 columns]"
      ]
     },
     "execution_count": 1331,
     "metadata": {},
     "output_type": "execute_result"
    }
   ],
   "source": [
    "# merge 2 dfs\n",
    "df_tf_idf = pd.merge(df_wiki_10, df_new, on='lowercase_word')\n",
    "df_tf_idf.rename({'doc_y': 'doc_freq'}, axis=1, inplace=True) #rename column\n",
    "df_tf_idf['idf'] = 1+ np.log(10000/df_tf_idf.doc_freq)\n",
    "df_tf_idf['tf_idf'] = df_tf_idf.tf* df_tf_idf.idf #calculate tf-idf\n",
    "df_tf_idf= df_tf_idf[df_tf_idf.tf_idf.notna()] # remove rows with NaN value\n",
    "df_tf_idf"
   ]
  },
  {
   "cell_type": "code",
   "execution_count": 1332,
   "metadata": {},
   "outputs": [
    {
     "data": {
      "text/html": [
       "<div>\n",
       "<style scoped>\n",
       "    .dataframe tbody tr th:only-of-type {\n",
       "        vertical-align: middle;\n",
       "    }\n",
       "\n",
       "    .dataframe tbody tr th {\n",
       "        vertical-align: top;\n",
       "    }\n",
       "\n",
       "    .dataframe thead th {\n",
       "        text-align: right;\n",
       "    }\n",
       "</style>\n",
       "<table border=\"1\" class=\"dataframe\">\n",
       "  <thead>\n",
       "    <tr style=\"text-align: right;\">\n",
       "      <th></th>\n",
       "      <th>lowercase_word</th>\n",
       "      <th>tf_idf</th>\n",
       "      <th>doc_x</th>\n",
       "    </tr>\n",
       "  </thead>\n",
       "  <tbody>\n",
       "    <tr>\n",
       "      <th>0</th>\n",
       "      <td>born</td>\n",
       "      <td>73.12381</td>\n",
       "      <td>doc7</td>\n",
       "    </tr>\n",
       "    <tr>\n",
       "      <th>1</th>\n",
       "      <td>born</td>\n",
       "      <td>73.12381</td>\n",
       "      <td>doc1</td>\n",
       "    </tr>\n",
       "    <tr>\n",
       "      <th>2</th>\n",
       "      <td>born</td>\n",
       "      <td>73.12381</td>\n",
       "      <td>doc8</td>\n",
       "    </tr>\n",
       "    <tr>\n",
       "      <th>3</th>\n",
       "      <td>born</td>\n",
       "      <td>73.12381</td>\n",
       "      <td>doc4</td>\n",
       "    </tr>\n",
       "    <tr>\n",
       "      <th>4</th>\n",
       "      <td>born</td>\n",
       "      <td>73.12381</td>\n",
       "      <td>doc3</td>\n",
       "    </tr>\n",
       "  </tbody>\n",
       "</table>\n",
       "</div>"
      ],
      "text/plain": [
       "  lowercase_word    tf_idf doc_x\n",
       "0           born  73.12381  doc7\n",
       "1           born  73.12381  doc1\n",
       "2           born  73.12381  doc8\n",
       "3           born  73.12381  doc4\n",
       "4           born  73.12381  doc3"
      ]
     },
     "execution_count": 1332,
     "metadata": {},
     "output_type": "execute_result"
    }
   ],
   "source": [
    "df = df_tf_idf[['lowercase_word','tf_idf','doc_x']] #take desired df subset\n",
    "df.head()"
   ]
  },
  {
   "cell_type": "code",
   "execution_count": 1333,
   "metadata": {},
   "outputs": [],
   "source": [
    "#create the tf-idf top 5 sorted list for top 10 docs\n",
    "doc1= df[df.doc_x == 'doc1'].sort_values('tf_idf').head(5)\n",
    "doc2= df[df.doc_x == 'doc2'].sort_values('tf_idf').head(5)\n",
    "doc3= df[df.doc_x == 'doc3'].sort_values('tf_idf').head(5)\n",
    "doc4= df[df.doc_x == 'doc4'].sort_values('tf_idf').head(5)\n",
    "doc5= df[df.doc_x == 'doc5'].sort_values('tf_idf').head(5)\n",
    "doc6= df[df.doc_x == 'doc6'].sort_values('tf_idf').head(5)\n",
    "doc7= df[df.doc_x == 'doc7'].sort_values('tf_idf').head(5)\n",
    "doc8= df[df.doc_x == 'doc8'].sort_values('tf_idf').head(5)\n",
    "doc9= df[df.doc_x == 'doc9'].sort_values('tf_idf').head(5)\n",
    "doc10= df[df.doc_x == 'doc10'].sort_values('tf_idf').head(5)"
   ]
  },
  {
   "cell_type": "code",
   "execution_count": 1334,
   "metadata": {},
   "outputs": [
    {
     "data": {
      "text/plain": [
       "(     lowercase_word     tf_idf doc_x\n",
       " 1034     fischietto   7.077269  doc1\n",
       " 1074        redenti   7.077269  doc1\n",
       " 984     caricatures  11.217205  doc1\n",
       " 975       correggio  14.154537  doc1\n",
       " 751       francesco  35.386343  doc1,\n",
       "     lowercase_word     tf_idf doc_x\n",
       " 910       bearcats  19.868405  doc2\n",
       " 807        maxwell  31.085610  doc2\n",
       " 780         deacon  32.865818  doc2\n",
       " 710         arnold  37.664715  doc2\n",
       " 637   northwestern  41.280930  doc2,\n",
       "      lowercase_word     tf_idf doc_x\n",
       " 1024     watlington   7.077269  doc3\n",
       " 1026     windglider   7.077269  doc3\n",
       " 980       bermudian  11.217205  doc3\n",
       " 982      windsurfer  11.217205  doc3\n",
       " 626            hugh  41.804652  doc3,\n",
       "      lowercase_word    tf_idf doc_x\n",
       " 1080          kohat  7.077269  doc4\n",
       " 1048           brar  7.077269  doc4\n",
       " 1047           zias  7.077269  doc4\n",
       " 1044         savita  7.077269  doc4\n",
       " 1042      allotting  7.077269  doc4,\n",
       "      lowercase_word     tf_idf doc_x\n",
       " 1063         sangjo   7.077269  doc5\n",
       " 607         cyclist  42.621915  doc5\n",
       " 492          korean  47.615300  doc5\n",
       " 260               m  56.176502  doc5\n",
       " 156        olympics  59.169319  doc5,\n",
       "      lowercase_word     tf_idf doc_x\n",
       " 1061         najjar   7.077269  doc6\n",
       " 1060          fawzi   7.077269  doc6\n",
       " 1021         husayn  11.217205  doc6\n",
       " 903      strategist  21.231806  doc6\n",
       " 754         islamic  35.062178  doc6,\n",
       "      lowercase_word     tf_idf doc_x\n",
       " 1056     parseghian   7.077269  doc7\n",
       " 933             ara  18.294474  doc7\n",
       " 847           49ers  26.945674  doc7\n",
       " 830        seahawks  27.650114  doc7\n",
       " 749           bills  35.386343  doc7,\n",
       "      lowercase_word    tf_idf doc_x\n",
       " 1096           laut  7.077269  doc8\n",
       " 1022         piegan  7.077269  doc8\n",
       " 1035     multistate  7.077269  doc8\n",
       " 1037     ortonville  7.077269  doc8\n",
       " 1040        bemidji  7.077269  doc8,\n",
       "      lowercase_word     tf_idf doc_x\n",
       " 1084       dualcode   7.077269  doc9\n",
       " 900             rfc  21.231806  doc9\n",
       " 901        bridgend  21.231806  doc9\n",
       " 862        rochdale  25.371743  doc9\n",
       " 861         hornets  25.371743  doc9,\n",
       "      lowercase_word     tf_idf  doc_x\n",
       " 1083        evrenos   7.077269  doc10\n",
       " 1085      giannitsa   7.077269  doc10\n",
       " 731     restoration  36.301314  doc10\n",
       " 677            tomb  39.311317  doc10\n",
       " 585          greece  43.378582  doc10)"
      ]
     },
     "execution_count": 1334,
     "metadata": {},
     "output_type": "execute_result"
    }
   ],
   "source": [
    "doc1, doc2, doc3, doc4, doc5, doc6, doc7, doc8,doc9,doc10"
   ]
  },
  {
   "cell_type": "markdown",
   "metadata": {},
   "source": [
    "The words do give a an idea of what the document is about but it is not a good summary because it lacks context. The words are rare and leaves it to imagination as to how to connect them. "
   ]
  },
  {
   "cell_type": "markdown",
   "metadata": {},
   "source": [
    "## Position Indexing\n",
    "We can also weigh terms taking into account its position in the docuemnt or position in terms of other words or the sequence of words in the query, but that cannot be directly calculated from the inverted index. The advantage of position indexing is the we can do phrase queries which allows us to look for words in the exact same order. This increases the probability of finding the most relevant document."
   ]
  },
  {
   "cell_type": "markdown",
   "metadata": {},
   "source": [
    "# Simple Search"
   ]
  },
  {
   "cell_type": "code",
   "execution_count": 878,
   "metadata": {},
   "outputs": [],
   "source": [
    "from sklearn.feature_extraction.text import CountVectorizer\n",
    "from sklearn.metrics.pairwise import cosine_similarity\n",
    "# import seaborn as sns"
   ]
  },
  {
   "cell_type": "code",
   "execution_count": 879,
   "metadata": {},
   "outputs": [],
   "source": [
    "#initialize countvectorize object with given stopwords\n",
    "count_vectorizer=CountVectorizer(stop_words= clean_list_stopwords) \n",
    "def convert_to_vector(corpus):\n",
    "    '''Converts documents to vectors'''\n",
    "    sparse_matrix= count_vectorizer.fit_transform(corpus)\n",
    "    return sparse_matrix.todense()"
   ]
  },
  {
   "cell_type": "code",
   "execution_count": 880,
   "metadata": {},
   "outputs": [
    {
     "data": {
      "text/plain": [
       "(10, 73)"
      ]
     },
     "execution_count": 880,
     "metadata": {},
     "output_type": "execute_result"
    }
   ],
   "source": [
    "doc_term_matrix=convert_to_vector(list_reddit_questions[0:10])\n",
    "doc_term_matrix.shape"
   ]
  },
  {
   "cell_type": "code",
   "execution_count": 847,
   "metadata": {},
   "outputs": [
    {
     "data": {
      "text/html": [
       "<div>\n",
       "<style scoped>\n",
       "    .dataframe tbody tr th:only-of-type {\n",
       "        vertical-align: middle;\n",
       "    }\n",
       "\n",
       "    .dataframe tbody tr th {\n",
       "        vertical-align: top;\n",
       "    }\n",
       "\n",
       "    .dataframe thead th {\n",
       "        text-align: right;\n",
       "    }\n",
       "</style>\n",
       "<table border=\"1\" class=\"dataframe\">\n",
       "  <thead>\n",
       "    <tr style=\"text-align: right;\">\n",
       "      <th></th>\n",
       "      <th>30</th>\n",
       "      <th>9mm</th>\n",
       "      <th>absolute</th>\n",
       "      <th>absolutely</th>\n",
       "      <th>actually</th>\n",
       "      <th>amanda</th>\n",
       "      <th>amazing</th>\n",
       "      <th>amp</th>\n",
       "      <th>avoid</th>\n",
       "      <th>brin</th>\n",
       "      <th>...</th>\n",
       "      <th>two</th>\n",
       "      <th>ve</th>\n",
       "      <th>versa</th>\n",
       "      <th>vice</th>\n",
       "      <th>viewers</th>\n",
       "      <th>witnessed</th>\n",
       "      <th>work</th>\n",
       "      <th>workers</th>\n",
       "      <th>years</th>\n",
       "      <th>zurich</th>\n",
       "    </tr>\n",
       "  </thead>\n",
       "  <tbody>\n",
       "    <tr>\n",
       "      <th>1</th>\n",
       "      <td>0</td>\n",
       "      <td>0</td>\n",
       "      <td>0</td>\n",
       "      <td>0</td>\n",
       "      <td>0</td>\n",
       "      <td>0</td>\n",
       "      <td>0</td>\n",
       "      <td>0</td>\n",
       "      <td>1</td>\n",
       "      <td>0</td>\n",
       "      <td>...</td>\n",
       "      <td>0</td>\n",
       "      <td>0</td>\n",
       "      <td>0</td>\n",
       "      <td>0</td>\n",
       "      <td>0</td>\n",
       "      <td>0</td>\n",
       "      <td>1</td>\n",
       "      <td>1</td>\n",
       "      <td>0</td>\n",
       "      <td>0</td>\n",
       "    </tr>\n",
       "    <tr>\n",
       "      <th>2</th>\n",
       "      <td>0</td>\n",
       "      <td>0</td>\n",
       "      <td>0</td>\n",
       "      <td>0</td>\n",
       "      <td>0</td>\n",
       "      <td>0</td>\n",
       "      <td>0</td>\n",
       "      <td>0</td>\n",
       "      <td>0</td>\n",
       "      <td>0</td>\n",
       "      <td>...</td>\n",
       "      <td>0</td>\n",
       "      <td>0</td>\n",
       "      <td>0</td>\n",
       "      <td>0</td>\n",
       "      <td>0</td>\n",
       "      <td>0</td>\n",
       "      <td>0</td>\n",
       "      <td>0</td>\n",
       "      <td>0</td>\n",
       "      <td>0</td>\n",
       "    </tr>\n",
       "    <tr>\n",
       "      <th>3</th>\n",
       "      <td>0</td>\n",
       "      <td>0</td>\n",
       "      <td>0</td>\n",
       "      <td>0</td>\n",
       "      <td>1</td>\n",
       "      <td>0</td>\n",
       "      <td>0</td>\n",
       "      <td>0</td>\n",
       "      <td>0</td>\n",
       "      <td>0</td>\n",
       "      <td>...</td>\n",
       "      <td>1</td>\n",
       "      <td>0</td>\n",
       "      <td>0</td>\n",
       "      <td>0</td>\n",
       "      <td>0</td>\n",
       "      <td>0</td>\n",
       "      <td>0</td>\n",
       "      <td>0</td>\n",
       "      <td>0</td>\n",
       "      <td>0</td>\n",
       "    </tr>\n",
       "    <tr>\n",
       "      <th>4</th>\n",
       "      <td>0</td>\n",
       "      <td>0</td>\n",
       "      <td>0</td>\n",
       "      <td>0</td>\n",
       "      <td>0</td>\n",
       "      <td>0</td>\n",
       "      <td>0</td>\n",
       "      <td>0</td>\n",
       "      <td>0</td>\n",
       "      <td>0</td>\n",
       "      <td>...</td>\n",
       "      <td>0</td>\n",
       "      <td>0</td>\n",
       "      <td>0</td>\n",
       "      <td>0</td>\n",
       "      <td>0</td>\n",
       "      <td>0</td>\n",
       "      <td>0</td>\n",
       "      <td>0</td>\n",
       "      <td>0</td>\n",
       "      <td>0</td>\n",
       "    </tr>\n",
       "    <tr>\n",
       "      <th>5</th>\n",
       "      <td>0</td>\n",
       "      <td>0</td>\n",
       "      <td>0</td>\n",
       "      <td>0</td>\n",
       "      <td>0</td>\n",
       "      <td>0</td>\n",
       "      <td>0</td>\n",
       "      <td>0</td>\n",
       "      <td>0</td>\n",
       "      <td>0</td>\n",
       "      <td>...</td>\n",
       "      <td>0</td>\n",
       "      <td>0</td>\n",
       "      <td>0</td>\n",
       "      <td>0</td>\n",
       "      <td>0</td>\n",
       "      <td>0</td>\n",
       "      <td>0</td>\n",
       "      <td>0</td>\n",
       "      <td>0</td>\n",
       "      <td>0</td>\n",
       "    </tr>\n",
       "    <tr>\n",
       "      <th>6</th>\n",
       "      <td>0</td>\n",
       "      <td>0</td>\n",
       "      <td>0</td>\n",
       "      <td>1</td>\n",
       "      <td>0</td>\n",
       "      <td>0</td>\n",
       "      <td>0</td>\n",
       "      <td>1</td>\n",
       "      <td>0</td>\n",
       "      <td>0</td>\n",
       "      <td>...</td>\n",
       "      <td>0</td>\n",
       "      <td>0</td>\n",
       "      <td>1</td>\n",
       "      <td>1</td>\n",
       "      <td>0</td>\n",
       "      <td>0</td>\n",
       "      <td>0</td>\n",
       "      <td>0</td>\n",
       "      <td>0</td>\n",
       "      <td>0</td>\n",
       "    </tr>\n",
       "    <tr>\n",
       "      <th>7</th>\n",
       "      <td>1</td>\n",
       "      <td>1</td>\n",
       "      <td>0</td>\n",
       "      <td>0</td>\n",
       "      <td>0</td>\n",
       "      <td>0</td>\n",
       "      <td>0</td>\n",
       "      <td>0</td>\n",
       "      <td>0</td>\n",
       "      <td>0</td>\n",
       "      <td>...</td>\n",
       "      <td>0</td>\n",
       "      <td>0</td>\n",
       "      <td>0</td>\n",
       "      <td>0</td>\n",
       "      <td>0</td>\n",
       "      <td>0</td>\n",
       "      <td>0</td>\n",
       "      <td>0</td>\n",
       "      <td>1</td>\n",
       "      <td>0</td>\n",
       "    </tr>\n",
       "    <tr>\n",
       "      <th>8</th>\n",
       "      <td>0</td>\n",
       "      <td>0</td>\n",
       "      <td>0</td>\n",
       "      <td>0</td>\n",
       "      <td>0</td>\n",
       "      <td>0</td>\n",
       "      <td>0</td>\n",
       "      <td>0</td>\n",
       "      <td>0</td>\n",
       "      <td>0</td>\n",
       "      <td>...</td>\n",
       "      <td>0</td>\n",
       "      <td>0</td>\n",
       "      <td>0</td>\n",
       "      <td>0</td>\n",
       "      <td>0</td>\n",
       "      <td>0</td>\n",
       "      <td>0</td>\n",
       "      <td>0</td>\n",
       "      <td>0</td>\n",
       "      <td>0</td>\n",
       "    </tr>\n",
       "    <tr>\n",
       "      <th>9</th>\n",
       "      <td>0</td>\n",
       "      <td>0</td>\n",
       "      <td>0</td>\n",
       "      <td>0</td>\n",
       "      <td>0</td>\n",
       "      <td>1</td>\n",
       "      <td>1</td>\n",
       "      <td>0</td>\n",
       "      <td>0</td>\n",
       "      <td>1</td>\n",
       "      <td>...</td>\n",
       "      <td>0</td>\n",
       "      <td>0</td>\n",
       "      <td>0</td>\n",
       "      <td>0</td>\n",
       "      <td>1</td>\n",
       "      <td>0</td>\n",
       "      <td>0</td>\n",
       "      <td>0</td>\n",
       "      <td>0</td>\n",
       "      <td>1</td>\n",
       "    </tr>\n",
       "    <tr>\n",
       "      <th>10</th>\n",
       "      <td>0</td>\n",
       "      <td>0</td>\n",
       "      <td>1</td>\n",
       "      <td>0</td>\n",
       "      <td>0</td>\n",
       "      <td>0</td>\n",
       "      <td>0</td>\n",
       "      <td>0</td>\n",
       "      <td>0</td>\n",
       "      <td>0</td>\n",
       "      <td>...</td>\n",
       "      <td>0</td>\n",
       "      <td>1</td>\n",
       "      <td>0</td>\n",
       "      <td>0</td>\n",
       "      <td>0</td>\n",
       "      <td>1</td>\n",
       "      <td>0</td>\n",
       "      <td>0</td>\n",
       "      <td>0</td>\n",
       "      <td>0</td>\n",
       "    </tr>\n",
       "  </tbody>\n",
       "</table>\n",
       "<p>10 rows × 73 columns</p>\n",
       "</div>"
      ],
      "text/plain": [
       "    30  9mm  absolute  absolutely  actually  amanda  amazing  amp  avoid  \\\n",
       "1    0    0         0           0         0       0        0    0      1   \n",
       "2    0    0         0           0         0       0        0    0      0   \n",
       "3    0    0         0           0         1       0        0    0      0   \n",
       "4    0    0         0           0         0       0        0    0      0   \n",
       "5    0    0         0           0         0       0        0    0      0   \n",
       "6    0    0         0           1         0       0        0    1      0   \n",
       "7    1    1         0           0         0       0        0    0      0   \n",
       "8    0    0         0           0         0       0        0    0      0   \n",
       "9    0    0         0           0         0       1        1    0      0   \n",
       "10   0    0         1           0         0       0        0    0      0   \n",
       "\n",
       "    brin  ...  two  ve  versa  vice  viewers  witnessed  work  workers  years  \\\n",
       "1      0  ...    0   0      0     0        0          0     1        1      0   \n",
       "2      0  ...    0   0      0     0        0          0     0        0      0   \n",
       "3      0  ...    1   0      0     0        0          0     0        0      0   \n",
       "4      0  ...    0   0      0     0        0          0     0        0      0   \n",
       "5      0  ...    0   0      0     0        0          0     0        0      0   \n",
       "6      0  ...    0   0      1     1        0          0     0        0      0   \n",
       "7      0  ...    0   0      0     0        0          0     0        0      1   \n",
       "8      0  ...    0   0      0     0        0          0     0        0      0   \n",
       "9      1  ...    0   0      0     0        1          0     0        0      0   \n",
       "10     0  ...    0   1      0     0        0          1     0        0      0   \n",
       "\n",
       "    zurich  \n",
       "1        0  \n",
       "2        0  \n",
       "3        0  \n",
       "4        0  \n",
       "5        0  \n",
       "6        0  \n",
       "7        0  \n",
       "8        0  \n",
       "9        1  \n",
       "10       0  \n",
       "\n",
       "[10 rows x 73 columns]"
      ]
     },
     "execution_count": 847,
     "metadata": {},
     "output_type": "execute_result"
    }
   ],
   "source": [
    "df=pd.DataFrame (doc_term_matrix, columns=count_vectorizer.get_feature_names(), \n",
    "                 index=['1','2','3','4','5','6','7','8','9','10'])\n",
    "df\n"
   ]
  },
  {
   "cell_type": "code",
   "execution_count": 881,
   "metadata": {},
   "outputs": [],
   "source": [
    "def query_to_vector(query):\n",
    "    '''This function generates matrix for text of the size of corpus it fit on'''\n",
    "    sparse_matrix= count_vectorizer.transform([query])\n",
    "    return sparse_matrix.todense() # or sparse_matrix2.toarray()"
   ]
  },
  {
   "cell_type": "code",
   "execution_count": 851,
   "metadata": {},
   "outputs": [],
   "source": [
    "# vectorize the queries\n",
    "query1 = query_to_vector('programming')\n",
    "query2 = query_to_vector('pets')\n",
    "query3 = query_to_vector('college')\n",
    "query4 = query_to_vector('love')\n",
    "query5 = query_to_vector('food')"
   ]
  },
  {
   "cell_type": "code",
   "execution_count": 855,
   "metadata": {},
   "outputs": [
    {
     "data": {
      "text/plain": [
       "array([[0.],\n",
       "       [0.],\n",
       "       [0.],\n",
       "       [0.],\n",
       "       [0.],\n",
       "       [0.],\n",
       "       [0.],\n",
       "       [0.],\n",
       "       [0.],\n",
       "       [0.]])"
      ]
     },
     "execution_count": 855,
     "metadata": {},
     "output_type": "execute_result"
    }
   ],
   "source": [
    "cosine_similarity(doc_term_matrix,query1)"
   ]
  },
  {
   "cell_type": "code",
   "execution_count": 856,
   "metadata": {},
   "outputs": [
    {
     "data": {
      "text/plain": [
       "array([[0.],\n",
       "       [0.],\n",
       "       [0.],\n",
       "       [0.],\n",
       "       [0.],\n",
       "       [0.],\n",
       "       [0.],\n",
       "       [0.],\n",
       "       [0.],\n",
       "       [0.]])"
      ]
     },
     "execution_count": 856,
     "metadata": {},
     "output_type": "execute_result"
    }
   ],
   "source": [
    "cosine_similarity(doc_term_matrix,query2)"
   ]
  },
  {
   "cell_type": "code",
   "execution_count": 857,
   "metadata": {},
   "outputs": [
    {
     "data": {
      "text/plain": [
       "array([[0.],\n",
       "       [0.],\n",
       "       [0.],\n",
       "       [0.],\n",
       "       [0.],\n",
       "       [0.],\n",
       "       [0.],\n",
       "       [0.],\n",
       "       [0.],\n",
       "       [0.]])"
      ]
     },
     "execution_count": 857,
     "metadata": {},
     "output_type": "execute_result"
    }
   ],
   "source": [
    "cosine_similarity(doc_term_matrix,query3)"
   ]
  },
  {
   "cell_type": "code",
   "execution_count": 858,
   "metadata": {},
   "outputs": [
    {
     "data": {
      "text/plain": [
       "array([[0.        ],\n",
       "       [0.        ],\n",
       "       [0.        ],\n",
       "       [0.        ],\n",
       "       [0.57735027],\n",
       "       [0.33333333],\n",
       "       [0.        ],\n",
       "       [0.        ],\n",
       "       [0.        ],\n",
       "       [0.        ]])"
      ]
     },
     "execution_count": 858,
     "metadata": {},
     "output_type": "execute_result"
    }
   ],
   "source": [
    "cosine_similarity(doc_term_matrix,query4)"
   ]
  },
  {
   "cell_type": "code",
   "execution_count": 859,
   "metadata": {},
   "outputs": [
    {
     "data": {
      "text/plain": [
       "array([[0.33333333],\n",
       "       [0.5       ],\n",
       "       [0.        ],\n",
       "       [0.        ],\n",
       "       [0.        ],\n",
       "       [0.        ],\n",
       "       [0.        ],\n",
       "       [0.        ],\n",
       "       [0.        ],\n",
       "       [0.        ]])"
      ]
     },
     "execution_count": 859,
     "metadata": {},
     "output_type": "execute_result"
    }
   ],
   "source": [
    "cosine_similarity(doc_term_matrix,query5)"
   ]
  },
  {
   "cell_type": "markdown",
   "metadata": {},
   "source": [
    "#### The NDCG for the queries:\n",
    " - $NDCG(programming)_{10}$ = 0\n",
    " - $NDCG(pets)_{10}$ = 0\n",
    " - $NDCG(college)_{10}$ = 0\n",
    " - $NDCG(love)_{10}$ = 2/log5 +1/log6 = 2/2.322 + 1/2.585 = 1.25\n",
    " - $NDCG(food)_{10}$ = 1 + 2/log2 = 3"
   ]
  },
  {
   "cell_type": "markdown",
   "metadata": {},
   "source": [
    "This system would work best for queries which are single word based or  multiple words based, where the order of the words in the query does not matter. So, for phrase based query where we might want to give importance to the sequence of the words in a document, this system will fall short."
   ]
  },
  {
   "cell_type": "markdown",
   "metadata": {},
   "source": [
    "## Plotting terms in the vocab field"
   ]
  },
  {
   "cell_type": "code",
   "execution_count": 869,
   "metadata": {},
   "outputs": [],
   "source": [
    "doc_500 = convert_to_vector(list_reddit_questions[0:500]).shape[1]\n",
    "doc_1K = convert_to_vector(list_reddit_questions[0:1000]).shape[1]\n",
    "doc_5K = convert_to_vector(list_reddit_questions[0:5000]).shape[1]\n",
    "doc_10K = convert_to_vector(list_reddit_questions[0:10000]).shape[1]\n",
    "doc_20K = convert_to_vector(list_reddit_questions[0:20000]).shape[1]"
   ]
  },
  {
   "cell_type": "code",
   "execution_count": 876,
   "metadata": {},
   "outputs": [
    {
     "data": {
      "text/html": [
       "<div>\n",
       "<style scoped>\n",
       "    .dataframe tbody tr th:only-of-type {\n",
       "        vertical-align: middle;\n",
       "    }\n",
       "\n",
       "    .dataframe tbody tr th {\n",
       "        vertical-align: top;\n",
       "    }\n",
       "\n",
       "    .dataframe thead th {\n",
       "        text-align: right;\n",
       "    }\n",
       "</style>\n",
       "<table border=\"1\" class=\"dataframe\">\n",
       "  <thead>\n",
       "    <tr style=\"text-align: right;\">\n",
       "      <th></th>\n",
       "      <th>no_of_terms</th>\n",
       "      <th>doc_size</th>\n",
       "    </tr>\n",
       "  </thead>\n",
       "  <tbody>\n",
       "    <tr>\n",
       "      <th>0</th>\n",
       "      <td>73</td>\n",
       "      <td>10</td>\n",
       "    </tr>\n",
       "    <tr>\n",
       "      <th>1</th>\n",
       "      <td>1473</td>\n",
       "      <td>500</td>\n",
       "    </tr>\n",
       "    <tr>\n",
       "      <th>2</th>\n",
       "      <td>2325</td>\n",
       "      <td>1000</td>\n",
       "    </tr>\n",
       "    <tr>\n",
       "      <th>3</th>\n",
       "      <td>6162</td>\n",
       "      <td>5000</td>\n",
       "    </tr>\n",
       "    <tr>\n",
       "      <th>4</th>\n",
       "      <td>8870</td>\n",
       "      <td>10000</td>\n",
       "    </tr>\n",
       "    <tr>\n",
       "      <th>5</th>\n",
       "      <td>12567</td>\n",
       "      <td>20000</td>\n",
       "    </tr>\n",
       "  </tbody>\n",
       "</table>\n",
       "</div>"
      ],
      "text/plain": [
       "   no_of_terms doc_size\n",
       "0           73       10\n",
       "1         1473      500\n",
       "2         2325     1000\n",
       "3         6162     5000\n",
       "4         8870    10000\n",
       "5        12567    20000"
      ]
     },
     "execution_count": 876,
     "metadata": {},
     "output_type": "execute_result"
    }
   ],
   "source": [
    "df =pd.DataFrame([doc_term_matrix.shape[1],doc_500,doc_1K,doc_5K,doc_10K,doc_20K],\n",
    "#                  ['doc_500K','doc_1000K','doc_5000K','doc_10000K','doc_20000K']],\n",
    "                columns=['no_of_terms'])\n",
    "df['doc_size'] =['10','500','1000','5000','10000','20000']\n",
    "df"
   ]
  },
  {
   "cell_type": "code",
   "execution_count": 877,
   "metadata": {},
   "outputs": [
    {
     "data": {
      "text/plain": [
       "<matplotlib.axes._subplots.AxesSubplot at 0x7fc581f67b50>"
      ]
     },
     "execution_count": 877,
     "metadata": {},
     "output_type": "execute_result"
    },
    {
     "data": {
      "image/png": "[encoded data removed]",
      "text/plain": [
       "<Figure size 2160x2160 with 1 Axes>"
      ]
     },
     "metadata": {
      "needs_background": "light"
     },
     "output_type": "display_data"
    }
   ],
   "source": [
    "df.plot('doc_size','no_of_terms',kind='line')"
   ]
  },
  {
   "cell_type": "markdown",
   "metadata": {},
   "source": [
    "The greater the no.of documents, more are the no.of terms. So, there is a linear relationship and the complexity is O(n). This is not scalable because in practice we usually have a much higher no.of documents, which translates to more computation time and space required."
   ]
  },
  {
   "cell_type": "code",
   "execution_count": null,
   "metadata": {},
   "outputs": [],
   "source": []
  }
 ],
 "metadata": {
  "kernelspec": {
   "display_name": "Python 3 (ipykernel)",
   "language": "python",
   "name": "python3"
  },
  "language_info": {
   "codemirror_mode": {
    "name": "ipython",
    "version": 3
   },
   "file_extension": ".py",
   "mimetype": "text/x-python",
   "name": "python",
   "nbconvert_exporter": "python",
   "pygments_lexer": "ipython3",
   "version": "3.9.0"
  }
 },
 "nbformat": 4,
 "nbformat_minor": 4
}
